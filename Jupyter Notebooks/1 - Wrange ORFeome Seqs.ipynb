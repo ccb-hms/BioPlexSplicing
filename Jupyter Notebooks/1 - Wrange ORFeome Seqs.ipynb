{
 "cells": [
  {
   "cell_type": "code",
   "execution_count": 4,
   "metadata": {},
   "outputs": [
    {
     "data": {
      "text/html": [
       "<style>.container { width:100% !important; }</style>"
      ],
      "text/plain": [
       "<IPython.core.display.HTML object>"
      ]
     },
     "metadata": {},
     "output_type": "display_data"
    }
   ],
   "source": [
    "from IPython.core.display import display, HTML\n",
    "display(HTML(\"<style>.container { width:100% !important; }</style>\"))"
   ]
  },
  {
   "cell_type": "code",
   "execution_count": 24,
   "metadata": {},
   "outputs": [],
   "source": [
    "from Bio import SeqIO\n",
    "import pandas as pd\n",
    "\n",
    "# path to working dir\n",
    "BioPlex_dir = '/n/data1/hms/dbmi/farhat/Roger/CCB/BioPlex'"
   ]
  },
  {
   "cell_type": "code",
   "execution_count": 8,
   "metadata": {},
   "outputs": [],
   "source": [
    "plt.style.use('ggplot')\n",
    "plt.rcParams['lines.linewidth']=3\n",
    "plt.rcParams['axes.facecolor']='1.0'\n",
    "plt.rcParams['xtick.color']='black'\n",
    "plt.rcParams['axes.grid']=True\n",
    "plt.rcParams['axes.edgecolor']='black'\n",
    "plt.rcParams['grid.color']= '1.0'\n",
    "plt.rcParams.update({'font.size': 12})"
   ]
  },
  {
   "cell_type": "markdown",
   "metadata": {},
   "source": [
    "## [1] Load ORFeome seqs with Biopython"
   ]
  },
  {
   "cell_type": "code",
   "execution_count": 11,
   "metadata": {},
   "outputs": [],
   "source": [
    "# load ORFeome seqs used to construct baits from FASTA file\n",
    "ORFeome_seq_records = list(SeqIO.parse(f'{BioPlex_dir}/data/ORFeome/human_ORFeome8.1_horf81_cloneInfo20120427.fa', 'fasta'))"
   ]
  },
  {
   "cell_type": "code",
   "execution_count": 12,
   "metadata": {},
   "outputs": [
    {
     "name": "stdout",
     "output_type": "stream",
     "text": [
      "Found 12692 records\n"
     ]
    }
   ],
   "source": [
    "print(\"Found %i records\" % len(ORFeome_seq_records)) # Number of ORFeome seqs"
   ]
  },
  {
   "cell_type": "code",
   "execution_count": 15,
   "metadata": {},
   "outputs": [
    {
     "name": "stdout",
     "output_type": "stream",
     "text": [
      "The first ORFeome seq\n",
      "81001@A01|ORF_ID:\n",
      "Seq('ATGACAGACACCGAAAATCACGACTCAGCCCCCTCCAGCACCTCTACCTGTTGC...TGA')\n",
      "159\n"
     ]
    }
   ],
   "source": [
    "print(\"The first ORFeome seq\")\n",
    "first_record = ORFeome_seq_records[0]\n",
    "print(first_record.id)\n",
    "print(repr(first_record.seq))\n",
    "print(len(first_record))"
   ]
  },
  {
   "cell_type": "code",
   "execution_count": 20,
   "metadata": {},
   "outputs": [
    {
     "data": {
      "text/plain": [
       "'81001@A01|ORF_ID: 403|ORF_SIZE:159|TEMPLATE_ACCESSION: BC009508.2, BC010491.1|GENE_ID: 112597|PERFECT_MATCH'"
      ]
     },
     "execution_count": 20,
     "metadata": {},
     "output_type": "execute_result"
    }
   ],
   "source": [
    "first_record.description"
   ]
  },
  {
   "cell_type": "code",
   "execution_count": 16,
   "metadata": {},
   "outputs": [
    {
     "name": "stdout",
     "output_type": "stream",
     "text": [
      "The last ORFeomo seq\n",
      "81138@H05|ORF_ID:\n",
      "Seq('ATGCACCTGAAATTGAGCAAGAAAATCGCCCAGCTCACCAAGGTAATATATGCT...TGA')\n",
      "3306\n"
     ]
    }
   ],
   "source": [
    "print(\"The last ORFeomo seq\")\n",
    "last_record = ORFeome_seq_records[-1]\n",
    "print(last_record.id)\n",
    "print(repr(last_record.seq))\n",
    "print(len(last_record))"
   ]
  },
  {
   "cell_type": "code",
   "execution_count": 19,
   "metadata": {},
   "outputs": [
    {
     "data": {
      "text/plain": [
       "'81138@H05|ORF_ID: 10772|ORF_SIZE:3306|TEMPLATE_ACCESSION: BC060769.1|GENE_ID: 79632|PERFECT_MATCH'"
      ]
     },
     "execution_count": 19,
     "metadata": {},
     "output_type": "execute_result"
    }
   ],
   "source": [
    "last_record.description"
   ]
  },
  {
   "cell_type": "markdown",
   "metadata": {},
   "source": [
    "## [2] Store ORF sequences and relevant annotation as a DataFrame"
   ]
  },
  {
   "cell_type": "code",
   "execution_count": 63,
   "metadata": {},
   "outputs": [],
   "source": [
    "# store ORF seqs & relevant annot as lists by iterating over records\n",
    "ORF_ID_list = []\n",
    "ORF_size_list = []\n",
    "template_accession_list = []\n",
    "entrez_gene_ids_list = []\n",
    "match_type_list = []\n",
    "seq_list = []\n",
    "\n",
    "for ORF_seq_record_i in ORFeome_seq_records:\n",
    "    \n",
    "    ORF_ID_list.append(ORF_seq_record_i.description.split('|')[1].split(': ')[1])\n",
    "    ORF_size_list.append(ORF_seq_record_i.description.split('|')[2].split(':')[1])\n",
    "    template_accession_list.append(ORF_seq_record_i.description.split('|')[3].split(': ')[1])\n",
    "    entrez_gene_ids_list.append(ORF_seq_record_i.description.split('|')[4].split(': ')[1])\n",
    "    match_type_list.append(ORF_seq_record_i.description.split('|')[5])\n",
    "    seq_list.append(ORF_seq_record_i.seq)\n",
    "    \n",
    "# convert lists to DataFrame\n",
    "ORFeome_df = pd.DataFrame()\n",
    "ORFeome_df.loc[:,'ORF_ID'] = ORF_ID_list\n",
    "ORFeome_df.loc[:,'ORF_size'] = ORF_size_list\n",
    "ORFeome_df.loc[:,'template_acc'] = template_accession_list\n",
    "ORFeome_df.loc[:,'Entrez_gene_ID'] = entrez_gene_ids_list\n",
    "ORFeome_df.loc[:,'match'] = match_type_list\n",
    "ORFeome_df.loc[:,'SEQ'] = seq_list"
   ]
  },
  {
   "cell_type": "code",
   "execution_count": 70,
   "metadata": {},
   "outputs": [
    {
     "data": {
      "text/html": [
       "<div>\n",
       "<style scoped>\n",
       "    .dataframe tbody tr th:only-of-type {\n",
       "        vertical-align: middle;\n",
       "    }\n",
       "\n",
       "    .dataframe tbody tr th {\n",
       "        vertical-align: top;\n",
       "    }\n",
       "\n",
       "    .dataframe thead th {\n",
       "        text-align: right;\n",
       "    }\n",
       "</style>\n",
       "<table border=\"1\" class=\"dataframe\">\n",
       "  <thead>\n",
       "    <tr style=\"text-align: right;\">\n",
       "      <th></th>\n",
       "      <th>ORF_ID</th>\n",
       "      <th>ORF_size</th>\n",
       "      <th>template_acc</th>\n",
       "      <th>Entrez_gene_ID</th>\n",
       "      <th>match</th>\n",
       "      <th>SEQ</th>\n",
       "    </tr>\n",
       "  </thead>\n",
       "  <tbody>\n",
       "    <tr>\n",
       "      <th>0</th>\n",
       "      <td>403</td>\n",
       "      <td>159</td>\n",
       "      <td>BC009508.2, BC010491.1</td>\n",
       "      <td>112597</td>\n",
       "      <td>PERFECT_MATCH</td>\n",
       "      <td>(A, T, G, A, C, A, G, A, C, A, C, C, G, A, A, ...</td>\n",
       "    </tr>\n",
       "    <tr>\n",
       "      <th>1</th>\n",
       "      <td>228</td>\n",
       "      <td>135</td>\n",
       "      <td>BC016025.1</td>\n",
       "      <td>9168</td>\n",
       "      <td>PERFECT_MATCH</td>\n",
       "      <td>(A, T, G, G, C, A, G, A, C, A, A, A, C, C, A, ...</td>\n",
       "    </tr>\n",
       "    <tr>\n",
       "      <th>2</th>\n",
       "      <td>52615</td>\n",
       "      <td>156</td>\n",
       "      <td>BC031105.1, BC107049.2</td>\n",
       "      <td>222659</td>\n",
       "      <td>PERFECT_MATCH</td>\n",
       "      <td>(A, T, G, C, A, G, C, T, G, A, G, A, C, A, C, ...</td>\n",
       "    </tr>\n",
       "    <tr>\n",
       "      <th>3</th>\n",
       "      <td>5673</td>\n",
       "      <td>159</td>\n",
       "      <td>BC005269.1</td>\n",
       "      <td>5350</td>\n",
       "      <td>PERFECT_MATCH</td>\n",
       "      <td>(A, T, G, G, A, G, A, A, A, G, T, C, C, A, A, ...</td>\n",
       "    </tr>\n",
       "    <tr>\n",
       "      <th>4</th>\n",
       "      <td>5236</td>\n",
       "      <td>171</td>\n",
       "      <td>BC007251.1</td>\n",
       "      <td>84837</td>\n",
       "      <td>PERFECT_MATCH</td>\n",
       "      <td>(A, T, G, C, A, G, G, C, C, C, C, T, G, A, T, ...</td>\n",
       "    </tr>\n",
       "  </tbody>\n",
       "</table>\n",
       "</div>"
      ],
      "text/plain": [
       "  ORF_ID ORF_size            template_acc Entrez_gene_ID          match  \\\n",
       "0    403      159  BC009508.2, BC010491.1         112597  PERFECT_MATCH   \n",
       "1    228      135              BC016025.1           9168  PERFECT_MATCH   \n",
       "2  52615      156  BC031105.1, BC107049.2         222659  PERFECT_MATCH   \n",
       "3   5673      159              BC005269.1           5350  PERFECT_MATCH   \n",
       "4   5236      171              BC007251.1          84837  PERFECT_MATCH   \n",
       "\n",
       "                                                 SEQ  \n",
       "0  (A, T, G, A, C, A, G, A, C, A, C, C, G, A, A, ...  \n",
       "1  (A, T, G, G, C, A, G, A, C, A, A, A, C, C, A, ...  \n",
       "2  (A, T, G, C, A, G, C, T, G, A, G, A, C, A, C, ...  \n",
       "3  (A, T, G, G, A, G, A, A, A, G, T, C, C, A, A, ...  \n",
       "4  (A, T, G, C, A, G, G, C, C, C, C, T, G, A, T, ...  "
      ]
     },
     "execution_count": 70,
     "metadata": {},
     "output_type": "execute_result"
    }
   ],
   "source": [
    "ORFeome_df.head()"
   ]
  },
  {
   "cell_type": "code",
   "execution_count": 71,
   "metadata": {},
   "outputs": [
    {
     "data": {
      "text/plain": [
       "(12692, 6)"
      ]
     },
     "execution_count": 71,
     "metadata": {},
     "output_type": "execute_result"
    }
   ],
   "source": [
    "np.shape(ORFeome_df)"
   ]
  },
  {
   "cell_type": "markdown",
   "metadata": {},
   "source": [
    "## [3] Remove ORF seqs that *do not* have a corresponding Entrez gene ID"
   ]
  },
  {
   "cell_type": "code",
   "execution_count": 79,
   "metadata": {},
   "outputs": [],
   "source": [
    "ORFeome_df = ORFeome_df[ORFeome_df.Entrez_gene_ID != '']\n",
    "ORFeome_df.reset_index(inplace = True, drop = True)"
   ]
  },
  {
   "cell_type": "code",
   "execution_count": 80,
   "metadata": {},
   "outputs": [
    {
     "data": {
      "text/html": [
       "<div>\n",
       "<style scoped>\n",
       "    .dataframe tbody tr th:only-of-type {\n",
       "        vertical-align: middle;\n",
       "    }\n",
       "\n",
       "    .dataframe tbody tr th {\n",
       "        vertical-align: top;\n",
       "    }\n",
       "\n",
       "    .dataframe thead th {\n",
       "        text-align: right;\n",
       "    }\n",
       "</style>\n",
       "<table border=\"1\" class=\"dataframe\">\n",
       "  <thead>\n",
       "    <tr style=\"text-align: right;\">\n",
       "      <th></th>\n",
       "      <th>ORF_ID</th>\n",
       "      <th>ORF_size</th>\n",
       "      <th>template_acc</th>\n",
       "      <th>Entrez_gene_ID</th>\n",
       "      <th>match</th>\n",
       "      <th>SEQ</th>\n",
       "    </tr>\n",
       "  </thead>\n",
       "  <tbody>\n",
       "    <tr>\n",
       "      <th>0</th>\n",
       "      <td>403</td>\n",
       "      <td>159</td>\n",
       "      <td>BC009508.2, BC010491.1</td>\n",
       "      <td>112597</td>\n",
       "      <td>PERFECT_MATCH</td>\n",
       "      <td>(A, T, G, A, C, A, G, A, C, A, C, C, G, A, A, ...</td>\n",
       "    </tr>\n",
       "    <tr>\n",
       "      <th>1</th>\n",
       "      <td>228</td>\n",
       "      <td>135</td>\n",
       "      <td>BC016025.1</td>\n",
       "      <td>9168</td>\n",
       "      <td>PERFECT_MATCH</td>\n",
       "      <td>(A, T, G, G, C, A, G, A, C, A, A, A, C, C, A, ...</td>\n",
       "    </tr>\n",
       "    <tr>\n",
       "      <th>2</th>\n",
       "      <td>52615</td>\n",
       "      <td>156</td>\n",
       "      <td>BC031105.1, BC107049.2</td>\n",
       "      <td>222659</td>\n",
       "      <td>PERFECT_MATCH</td>\n",
       "      <td>(A, T, G, C, A, G, C, T, G, A, G, A, C, A, C, ...</td>\n",
       "    </tr>\n",
       "    <tr>\n",
       "      <th>3</th>\n",
       "      <td>5673</td>\n",
       "      <td>159</td>\n",
       "      <td>BC005269.1</td>\n",
       "      <td>5350</td>\n",
       "      <td>PERFECT_MATCH</td>\n",
       "      <td>(A, T, G, G, A, G, A, A, A, G, T, C, C, A, A, ...</td>\n",
       "    </tr>\n",
       "    <tr>\n",
       "      <th>4</th>\n",
       "      <td>5236</td>\n",
       "      <td>171</td>\n",
       "      <td>BC007251.1</td>\n",
       "      <td>84837</td>\n",
       "      <td>PERFECT_MATCH</td>\n",
       "      <td>(A, T, G, C, A, G, G, C, C, C, C, T, G, A, T, ...</td>\n",
       "    </tr>\n",
       "  </tbody>\n",
       "</table>\n",
       "</div>"
      ],
      "text/plain": [
       "  ORF_ID ORF_size            template_acc Entrez_gene_ID          match  \\\n",
       "0    403      159  BC009508.2, BC010491.1         112597  PERFECT_MATCH   \n",
       "1    228      135              BC016025.1           9168  PERFECT_MATCH   \n",
       "2  52615      156  BC031105.1, BC107049.2         222659  PERFECT_MATCH   \n",
       "3   5673      159              BC005269.1           5350  PERFECT_MATCH   \n",
       "4   5236      171              BC007251.1          84837  PERFECT_MATCH   \n",
       "\n",
       "                                                 SEQ  \n",
       "0  (A, T, G, A, C, A, G, A, C, A, C, C, G, A, A, ...  \n",
       "1  (A, T, G, G, C, A, G, A, C, A, A, A, C, C, A, ...  \n",
       "2  (A, T, G, C, A, G, C, T, G, A, G, A, C, A, C, ...  \n",
       "3  (A, T, G, G, A, G, A, A, A, G, T, C, C, A, A, ...  \n",
       "4  (A, T, G, C, A, G, G, C, C, C, C, T, G, A, T, ...  "
      ]
     },
     "execution_count": 80,
     "metadata": {},
     "output_type": "execute_result"
    }
   ],
   "source": [
    "ORFeome_df.head()"
   ]
  },
  {
   "cell_type": "code",
   "execution_count": 81,
   "metadata": {},
   "outputs": [
    {
     "data": {
      "text/plain": [
       "(12583, 6)"
      ]
     },
     "execution_count": 81,
     "metadata": {},
     "output_type": "execute_result"
    }
   ],
   "source": [
    "np.shape(ORFeome_df) # 109 ORF seqs did not have a corresponding Entrez gene ID"
   ]
  },
  {
   "cell_type": "markdown",
   "metadata": {},
   "source": [
    "Convert **Entrez_gene_ID** column to integer type"
   ]
  },
  {
   "cell_type": "code",
   "execution_count": 83,
   "metadata": {},
   "outputs": [
    {
     "name": "stderr",
     "output_type": "stream",
     "text": [
      "/home/rv76/anaconda2/envs/CCB_BioPlex/lib/python3.7/site-packages/pandas/core/indexing.py:1951: SettingWithCopyWarning: \n",
      "A value is trying to be set on a copy of a slice from a DataFrame.\n",
      "Try using .loc[row_indexer,col_indexer] = value instead\n",
      "\n",
      "See the caveats in the documentation: https://pandas.pydata.org/pandas-docs/stable/user_guide/indexing.html#returning-a-view-versus-a-copy\n",
      "  self.obj[selected_item_labels] = value\n"
     ]
    }
   ],
   "source": [
    "ORFeome_df.loc[:,'Entrez_gene_ID'] = ORFeome_df.Entrez_gene_ID.astype(int)"
   ]
  },
  {
   "cell_type": "markdown",
   "metadata": {},
   "source": [
    "save a pickled DataFrame for downstream analysis"
   ]
  },
  {
   "cell_type": "code",
   "execution_count": 85,
   "metadata": {},
   "outputs": [],
   "source": [
    "ORFeome_df.to_pickle(f'{BioPlex_dir}/data/pickled_files/ORFeome_seqs_df.pkl')"
   ]
  },
  {
   "cell_type": "code",
   "execution_count": null,
   "metadata": {},
   "outputs": [],
   "source": []
  }
 ],
 "metadata": {
  "kernelspec": {
   "display_name": "Python [conda env:CCB_BioPlex]",
   "language": "python",
   "name": "conda-env-CCB_BioPlex-py"
  },
  "language_info": {
   "codemirror_mode": {
    "name": "ipython",
    "version": 3
   },
   "file_extension": ".py",
   "mimetype": "text/x-python",
   "name": "python",
   "nbconvert_exporter": "python",
   "pygments_lexer": "ipython3",
   "version": "3.7.11"
  }
 },
 "nbformat": 4,
 "nbformat_minor": 2
}
