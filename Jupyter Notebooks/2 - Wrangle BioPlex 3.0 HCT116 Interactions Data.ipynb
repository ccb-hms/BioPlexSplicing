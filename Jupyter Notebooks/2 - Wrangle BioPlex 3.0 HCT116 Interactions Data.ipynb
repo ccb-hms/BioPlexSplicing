{
 "cells": [
  {
   "cell_type": "code",
   "execution_count": 1,
   "metadata": {},
   "outputs": [
    {
     "data": {
      "text/html": [
       "<style>.container { width:100% !important; }</style>"
      ],
      "text/plain": [
       "<IPython.core.display.HTML object>"
      ]
     },
     "metadata": {},
     "output_type": "display_data"
    }
   ],
   "source": [
    "from IPython.core.display import display, HTML\n",
    "display(HTML(\"<style>.container { width:100% !important; }</style>\"))"
   ]
  },
  {
   "cell_type": "markdown",
   "metadata": {},
   "source": [
    "## Load BioPlex Interactions"
   ]
  },
  {
   "cell_type": "code",
   "execution_count": 2,
   "metadata": {},
   "outputs": [],
   "source": [
    "import pandas as pd\n",
    "import numpy as np\n",
    "import matplotlib.pyplot as plt\n",
    "import matplotlib as mpl\n",
    "from collections import Counter\n",
    "\n",
    "# path to working dir\n",
    "BioPlex_dir = '/n/data1/hms/dbmi/farhat/Roger/CCB/BioPlex'"
   ]
  },
  {
   "cell_type": "code",
   "execution_count": 3,
   "metadata": {},
   "outputs": [],
   "source": [
    "plt.style.use('ggplot')\n",
    "plt.rcParams['lines.linewidth']=3\n",
    "plt.rcParams['axes.facecolor']='1.0'\n",
    "plt.rcParams['xtick.color']='black'\n",
    "plt.rcParams['axes.grid']=True\n",
    "plt.rcParams['axes.edgecolor']='black'\n",
    "plt.rcParams['grid.color']= '1.0'\n",
    "plt.rcParams.update({'font.size': 12})"
   ]
  },
  {
   "cell_type": "markdown",
   "metadata": {},
   "source": [
    "## [1] Baits"
   ]
  },
  {
   "cell_type": "code",
   "execution_count": 4,
   "metadata": {},
   "outputs": [],
   "source": [
    "# load list of all \"baits\" targeted for AP-MS in 293T cells (Gene Symbol & Entrez Gene ID for proteins targeted as baits; number of interacting proteins identified)\n",
    "BioPlex_baits_df = pd.read_csv(f'{BioPlex_dir}/data/baits/BioPlex_3.0_HCT116_baits.csv', sep = ',')"
   ]
  },
  {
   "cell_type": "code",
   "execution_count": 5,
   "metadata": {},
   "outputs": [
    {
     "data": {
      "text/html": [
       "<div>\n",
       "<style scoped>\n",
       "    .dataframe tbody tr th:only-of-type {\n",
       "        vertical-align: middle;\n",
       "    }\n",
       "\n",
       "    .dataframe tbody tr th {\n",
       "        vertical-align: top;\n",
       "    }\n",
       "\n",
       "    .dataframe thead th {\n",
       "        text-align: right;\n",
       "    }\n",
       "</style>\n",
       "<table border=\"1\" class=\"dataframe\">\n",
       "  <thead>\n",
       "    <tr style=\"text-align: right;\">\n",
       "      <th></th>\n",
       "      <th>Bait_Symbol</th>\n",
       "      <th>Entrez_gene_ID</th>\n",
       "      <th>Num_Interactors</th>\n",
       "    </tr>\n",
       "  </thead>\n",
       "  <tbody>\n",
       "    <tr>\n",
       "      <th>0</th>\n",
       "      <td>A1BG</td>\n",
       "      <td>1</td>\n",
       "      <td>5</td>\n",
       "    </tr>\n",
       "    <tr>\n",
       "      <th>1</th>\n",
       "      <td>NAT2</td>\n",
       "      <td>10</td>\n",
       "      <td>1</td>\n",
       "    </tr>\n",
       "    <tr>\n",
       "      <th>2</th>\n",
       "      <td>AKT3</td>\n",
       "      <td>10000</td>\n",
       "      <td>11</td>\n",
       "    </tr>\n",
       "    <tr>\n",
       "      <th>3</th>\n",
       "      <td>NR2E3</td>\n",
       "      <td>10002</td>\n",
       "      <td>1</td>\n",
       "    </tr>\n",
       "    <tr>\n",
       "      <th>4</th>\n",
       "      <td>ACOT8</td>\n",
       "      <td>10005</td>\n",
       "      <td>2</td>\n",
       "    </tr>\n",
       "  </tbody>\n",
       "</table>\n",
       "</div>"
      ],
      "text/plain": [
       "  Bait_Symbol  Entrez_gene_ID  Num_Interactors\n",
       "0        A1BG               1                5\n",
       "1        NAT2              10                1\n",
       "2        AKT3           10000               11\n",
       "3       NR2E3           10002                1\n",
       "4       ACOT8           10005                2"
      ]
     },
     "execution_count": 5,
     "metadata": {},
     "output_type": "execute_result"
    }
   ],
   "source": [
    "BioPlex_baits_df.head()"
   ]
  },
  {
   "cell_type": "code",
   "execution_count": 6,
   "metadata": {},
   "outputs": [
    {
     "data": {
      "text/plain": [
       "(5522, 3)"
      ]
     },
     "execution_count": 6,
     "metadata": {},
     "output_type": "execute_result"
    }
   ],
   "source": [
    "np.shape(BioPlex_baits_df)"
   ]
  },
  {
   "cell_type": "code",
   "execution_count": 7,
   "metadata": {},
   "outputs": [],
   "source": [
    "bait_Entrez_Gene_ids = set(BioPlex_baits_df.Entrez_gene_ID)"
   ]
  },
  {
   "cell_type": "markdown",
   "metadata": {},
   "source": [
    "How many **baits** had **zero** interactors?"
   ]
  },
  {
   "cell_type": "code",
   "execution_count": 8,
   "metadata": {},
   "outputs": [
    {
     "data": {
      "text/plain": [
       "(38, 3)"
      ]
     },
     "execution_count": 8,
     "metadata": {},
     "output_type": "execute_result"
    }
   ],
   "source": [
    "np.shape(BioPlex_baits_df[BioPlex_baits_df.Num_Interactors == 0])"
   ]
  },
  {
   "cell_type": "markdown",
   "metadata": {},
   "source": [
    "Distribution of **Number of Interactions** for each **bait**"
   ]
  },
  {
   "cell_type": "code",
   "execution_count": 9,
   "metadata": {},
   "outputs": [
    {
     "data": {
      "image/png": "[encoded data removed]",
      "text/plain": [
       "<Figure size 540x378 with 1 Axes>"
      ]
     },
     "metadata": {},
     "output_type": "display_data"
    }
   ],
   "source": [
    "fig , ax = plt.subplots()\n",
    "\n",
    "n , bins , patches = plt.hist(BioPlex_baits_df.Num_Interactors , bins = 60 , color = 'k' , rwidth = 1.0 , edgecolor='white', linewidth=1.35)\n",
    "\n",
    "# plt.title('Number of Isolates Each SNP is Found in', fontweight = 'bold' , fontsize = 12, color = 'k')\n",
    "plt.xlabel('Number of Interactors', fontweight = 'bold' , fontsize = 12, color = 'k')\n",
    "plt.ylabel('Number of Baits', fontweight = 'bold' , fontsize = 12, color = 'k')\n",
    "\n",
    "ax.spines['right'].set_visible(False)\n",
    "ax.spines['top'].set_visible(False)\n",
    "\n",
    "ax.tick_params(labelcolor = 'k')\n",
    "#ax.set_yscale(\"log\", nonposy='clip')\n",
    "ax.set_xlim(-2, BioPlex_baits_df.Num_Interactors.max() + 2)\n",
    "\n",
    "fig = plt.gcf()\n",
    "fig.set_size_inches(7.5, 5.25)\n",
    "fig.tight_layout()\n",
    "\n",
    "plt.tick_params(axis='y', which='major', labelsize=12 , labelcolor = 'k')\n",
    "plt.tick_params(axis='x', which='major', labelsize=12 , labelcolor = 'k')\n",
    "\n",
    "#file_name = '/home/rv76/Farhat_Lab/Figures/Final_5/Scraping_rollingDB/Mean_Coverage_Distribution_across_all_isolates.pdf'\n",
    "#plt.savefig(file_name, bbox_inches='tight', dpi = 300 , transparent = True)\n",
    "\n",
    "plt.show()"
   ]
  },
  {
   "cell_type": "markdown",
   "metadata": {},
   "source": [
    "##  [2] Merge *baits* with corresponding *ORF* sequences"
   ]
  },
  {
   "cell_type": "markdown",
   "metadata": {},
   "source": [
    "Load **ORFeome** seqs & annotation"
   ]
  },
  {
   "cell_type": "code",
   "execution_count": 10,
   "metadata": {},
   "outputs": [],
   "source": [
    "ORFeome_df = pd.read_pickle(f'{BioPlex_dir}/data/pickled_files/ORFeome_seqs_df.pkl')"
   ]
  },
  {
   "cell_type": "code",
   "execution_count": 11,
   "metadata": {},
   "outputs": [
    {
     "data": {
      "text/html": [
       "<div>\n",
       "<style scoped>\n",
       "    .dataframe tbody tr th:only-of-type {\n",
       "        vertical-align: middle;\n",
       "    }\n",
       "\n",
       "    .dataframe tbody tr th {\n",
       "        vertical-align: top;\n",
       "    }\n",
       "\n",
       "    .dataframe thead th {\n",
       "        text-align: right;\n",
       "    }\n",
       "</style>\n",
       "<table border=\"1\" class=\"dataframe\">\n",
       "  <thead>\n",
       "    <tr style=\"text-align: right;\">\n",
       "      <th></th>\n",
       "      <th>ORF_ID</th>\n",
       "      <th>ORF_size</th>\n",
       "      <th>template_acc</th>\n",
       "      <th>Entrez_gene_ID</th>\n",
       "      <th>match</th>\n",
       "      <th>SEQ</th>\n",
       "    </tr>\n",
       "  </thead>\n",
       "  <tbody>\n",
       "    <tr>\n",
       "      <th>0</th>\n",
       "      <td>403</td>\n",
       "      <td>159</td>\n",
       "      <td>BC009508.2, BC010491.1</td>\n",
       "      <td>112597</td>\n",
       "      <td>PERFECT_MATCH</td>\n",
       "      <td>(A, T, G, A, C, A, G, A, C, A, C, C, G, A, A, ...</td>\n",
       "    </tr>\n",
       "    <tr>\n",
       "      <th>1</th>\n",
       "      <td>228</td>\n",
       "      <td>135</td>\n",
       "      <td>BC016025.1</td>\n",
       "      <td>9168</td>\n",
       "      <td>PERFECT_MATCH</td>\n",
       "      <td>(A, T, G, G, C, A, G, A, C, A, A, A, C, C, A, ...</td>\n",
       "    </tr>\n",
       "    <tr>\n",
       "      <th>2</th>\n",
       "      <td>52615</td>\n",
       "      <td>156</td>\n",
       "      <td>BC031105.1, BC107049.2</td>\n",
       "      <td>222659</td>\n",
       "      <td>PERFECT_MATCH</td>\n",
       "      <td>(A, T, G, C, A, G, C, T, G, A, G, A, C, A, C, ...</td>\n",
       "    </tr>\n",
       "  </tbody>\n",
       "</table>\n",
       "</div>"
      ],
      "text/plain": [
       "  ORF_ID ORF_size            template_acc  Entrez_gene_ID          match  \\\n",
       "0    403      159  BC009508.2, BC010491.1          112597  PERFECT_MATCH   \n",
       "1    228      135              BC016025.1            9168  PERFECT_MATCH   \n",
       "2  52615      156  BC031105.1, BC107049.2          222659  PERFECT_MATCH   \n",
       "\n",
       "                                                 SEQ  \n",
       "0  (A, T, G, A, C, A, G, A, C, A, C, C, G, A, A, ...  \n",
       "1  (A, T, G, G, C, A, G, A, C, A, A, A, C, C, A, ...  \n",
       "2  (A, T, G, C, A, G, C, T, G, A, G, A, C, A, C, ...  "
      ]
     },
     "execution_count": 11,
     "metadata": {},
     "output_type": "execute_result"
    }
   ],
   "source": [
    "ORFeome_df.head(n=3)"
   ]
  },
  {
   "cell_type": "code",
   "execution_count": 12,
   "metadata": {},
   "outputs": [
    {
     "data": {
      "text/plain": [
       "(12583, 6)"
      ]
     },
     "execution_count": 12,
     "metadata": {},
     "output_type": "execute_result"
    }
   ],
   "source": [
    "np.shape(ORFeome_df)"
   ]
  },
  {
   "cell_type": "markdown",
   "metadata": {},
   "source": [
    "Some Entrez gene IDs map to multiple ORFs"
   ]
  },
  {
   "cell_type": "code",
   "execution_count": 13,
   "metadata": {},
   "outputs": [],
   "source": [
    "num_ORFs_per_gene_ID = pd.Series(Counter(ORFeome_df.Entrez_gene_ID))"
   ]
  },
  {
   "cell_type": "code",
   "execution_count": 14,
   "metadata": {},
   "outputs": [
    {
     "data": {
      "text/plain": [
       "10344"
      ]
     },
     "execution_count": 14,
     "metadata": {},
     "output_type": "execute_result"
    }
   ],
   "source": [
    "sum(num_ORFs_per_gene_ID == 1)"
   ]
  },
  {
   "cell_type": "code",
   "execution_count": 15,
   "metadata": {
    "scrolled": true
   },
   "outputs": [
    {
     "data": {
      "text/plain": [
       "1094"
      ]
     },
     "execution_count": 15,
     "metadata": {},
     "output_type": "execute_result"
    }
   ],
   "source": [
    "sum(num_ORFs_per_gene_ID > 1)"
   ]
  },
  {
   "cell_type": "code",
   "execution_count": 16,
   "metadata": {},
   "outputs": [],
   "source": [
    "ORFeome_seq_Entrez_gene_IDs = set(list(num_ORFs_per_gene_ID.index))"
   ]
  },
  {
   "cell_type": "code",
   "execution_count": 17,
   "metadata": {},
   "outputs": [
    {
     "data": {
      "text/plain": [
       "11438"
      ]
     },
     "execution_count": 17,
     "metadata": {},
     "output_type": "execute_result"
    }
   ],
   "source": [
    "len(ORFeome_seq_Entrez_gene_IDs)"
   ]
  },
  {
   "cell_type": "markdown",
   "metadata": {},
   "source": [
    "**Baits**"
   ]
  },
  {
   "cell_type": "code",
   "execution_count": 18,
   "metadata": {
    "scrolled": true
   },
   "outputs": [
    {
     "data": {
      "text/html": [
       "<div>\n",
       "<style scoped>\n",
       "    .dataframe tbody tr th:only-of-type {\n",
       "        vertical-align: middle;\n",
       "    }\n",
       "\n",
       "    .dataframe tbody tr th {\n",
       "        vertical-align: top;\n",
       "    }\n",
       "\n",
       "    .dataframe thead th {\n",
       "        text-align: right;\n",
       "    }\n",
       "</style>\n",
       "<table border=\"1\" class=\"dataframe\">\n",
       "  <thead>\n",
       "    <tr style=\"text-align: right;\">\n",
       "      <th></th>\n",
       "      <th>Bait_Symbol</th>\n",
       "      <th>Entrez_gene_ID</th>\n",
       "      <th>Num_Interactors</th>\n",
       "    </tr>\n",
       "  </thead>\n",
       "  <tbody>\n",
       "    <tr>\n",
       "      <th>0</th>\n",
       "      <td>A1BG</td>\n",
       "      <td>1</td>\n",
       "      <td>5</td>\n",
       "    </tr>\n",
       "    <tr>\n",
       "      <th>1</th>\n",
       "      <td>NAT2</td>\n",
       "      <td>10</td>\n",
       "      <td>1</td>\n",
       "    </tr>\n",
       "    <tr>\n",
       "      <th>2</th>\n",
       "      <td>AKT3</td>\n",
       "      <td>10000</td>\n",
       "      <td>11</td>\n",
       "    </tr>\n",
       "  </tbody>\n",
       "</table>\n",
       "</div>"
      ],
      "text/plain": [
       "  Bait_Symbol  Entrez_gene_ID  Num_Interactors\n",
       "0        A1BG               1                5\n",
       "1        NAT2              10                1\n",
       "2        AKT3           10000               11"
      ]
     },
     "execution_count": 18,
     "metadata": {},
     "output_type": "execute_result"
    }
   ],
   "source": [
    "BioPlex_baits_df.head(n=3)"
   ]
  },
  {
   "cell_type": "code",
   "execution_count": 19,
   "metadata": {},
   "outputs": [
    {
     "data": {
      "text/plain": [
       "(5522, 3)"
      ]
     },
     "execution_count": 19,
     "metadata": {},
     "output_type": "execute_result"
    }
   ],
   "source": [
    "np.shape(BioPlex_baits_df)"
   ]
  },
  {
   "cell_type": "code",
   "execution_count": 20,
   "metadata": {},
   "outputs": [],
   "source": [
    "BioPlex_bait_Entrez_gene_IDs = set(list(BioPlex_baits_df.Entrez_gene_ID))"
   ]
  },
  {
   "cell_type": "code",
   "execution_count": 21,
   "metadata": {},
   "outputs": [
    {
     "data": {
      "text/plain": [
       "5522"
      ]
     },
     "execution_count": 21,
     "metadata": {},
     "output_type": "execute_result"
    }
   ],
   "source": [
    "len(BioPlex_bait_Entrez_gene_IDs)"
   ]
  },
  {
   "cell_type": "markdown",
   "metadata": {},
   "source": [
    "#### PROBLEM - several *baits* do not have a corresponding *ORF* when mapped using Entrez gene IDs"
   ]
  },
  {
   "cell_type": "code",
   "execution_count": 22,
   "metadata": {},
   "outputs": [
    {
     "data": {
      "text/plain": [
       "260"
      ]
     },
     "execution_count": 22,
     "metadata": {},
     "output_type": "execute_result"
    }
   ],
   "source": [
    "len(BioPlex_bait_Entrez_gene_IDs - ORFeome_seq_Entrez_gene_IDs)"
   ]
  },
  {
   "cell_type": "code",
   "execution_count": 23,
   "metadata": {},
   "outputs": [
    {
     "data": {
      "text/plain": [
       "5262"
      ]
     },
     "execution_count": 23,
     "metadata": {},
     "output_type": "execute_result"
    }
   ],
   "source": [
    "len(ORFeome_seq_Entrez_gene_IDs.intersection(BioPlex_bait_Entrez_gene_IDs))"
   ]
  },
  {
   "cell_type": "code",
   "execution_count": 24,
   "metadata": {},
   "outputs": [
    {
     "data": {
      "text/plain": [
       "6176"
      ]
     },
     "execution_count": 24,
     "metadata": {},
     "output_type": "execute_result"
    }
   ],
   "source": [
    "len(ORFeome_seq_Entrez_gene_IDs - BioPlex_bait_Entrez_gene_IDs)"
   ]
  },
  {
   "cell_type": "markdown",
   "metadata": {},
   "source": [
    "#### Left merge the *bait* Entrez gene IDs with the corresponding *ORF seq* Entrez gene IDs"
   ]
  },
  {
   "cell_type": "code",
   "execution_count": 25,
   "metadata": {},
   "outputs": [],
   "source": [
    "BioPlex_baits_df = BioPlex_baits_df.merge(ORFeome_df, how = 'left', on = 'Entrez_gene_ID')"
   ]
  },
  {
   "cell_type": "code",
   "execution_count": 26,
   "metadata": {},
   "outputs": [
    {
     "data": {
      "text/html": [
       "<div>\n",
       "<style scoped>\n",
       "    .dataframe tbody tr th:only-of-type {\n",
       "        vertical-align: middle;\n",
       "    }\n",
       "\n",
       "    .dataframe tbody tr th {\n",
       "        vertical-align: top;\n",
       "    }\n",
       "\n",
       "    .dataframe thead th {\n",
       "        text-align: right;\n",
       "    }\n",
       "</style>\n",
       "<table border=\"1\" class=\"dataframe\">\n",
       "  <thead>\n",
       "    <tr style=\"text-align: right;\">\n",
       "      <th></th>\n",
       "      <th>Bait_Symbol</th>\n",
       "      <th>Entrez_gene_ID</th>\n",
       "      <th>Num_Interactors</th>\n",
       "      <th>ORF_ID</th>\n",
       "      <th>ORF_size</th>\n",
       "      <th>template_acc</th>\n",
       "      <th>match</th>\n",
       "      <th>SEQ</th>\n",
       "    </tr>\n",
       "  </thead>\n",
       "  <tbody>\n",
       "    <tr>\n",
       "      <th>0</th>\n",
       "      <td>A1BG</td>\n",
       "      <td>1</td>\n",
       "      <td>5</td>\n",
       "      <td>10134</td>\n",
       "      <td>1122</td>\n",
       "      <td>BC035719.1</td>\n",
       "      <td>PERFECT_MATCH</td>\n",
       "      <td>(A, T, G, G, C, G, C, C, A, G, T, G, T, C, C, ...</td>\n",
       "    </tr>\n",
       "    <tr>\n",
       "      <th>1</th>\n",
       "      <td>NAT2</td>\n",
       "      <td>10</td>\n",
       "      <td>1</td>\n",
       "      <td>7722</td>\n",
       "      <td>873</td>\n",
       "      <td>BC015878.1</td>\n",
       "      <td>PERFECT_MATCH</td>\n",
       "      <td>(A, T, G, G, A, C, A, T, T, G, A, A, G, C, A, ...</td>\n",
       "    </tr>\n",
       "    <tr>\n",
       "      <th>2</th>\n",
       "      <td>AKT3</td>\n",
       "      <td>10000</td>\n",
       "      <td>11</td>\n",
       "      <td>56787</td>\n",
       "      <td>1398</td>\n",
       "      <td>BC121154.2</td>\n",
       "      <td>PERFECT_MATCH</td>\n",
       "      <td>(A, T, G, A, G, C, G, A, T, G, T, T, A, C, C, ...</td>\n",
       "    </tr>\n",
       "    <tr>\n",
       "      <th>3</th>\n",
       "      <td>NR2E3</td>\n",
       "      <td>10002</td>\n",
       "      <td>1</td>\n",
       "      <td>11340</td>\n",
       "      <td>969</td>\n",
       "      <td>BC041421.1</td>\n",
       "      <td>PERFECT_MATCH</td>\n",
       "      <td>(A, T, G, T, G, C, C, C, C, G, T, G, G, A, C, ...</td>\n",
       "    </tr>\n",
       "    <tr>\n",
       "      <th>4</th>\n",
       "      <td>ACOT8</td>\n",
       "      <td>10005</td>\n",
       "      <td>2</td>\n",
       "      <td>53919</td>\n",
       "      <td>960</td>\n",
       "      <td>BC117155.1, BC117157.1</td>\n",
       "      <td>PERFECT_MATCH</td>\n",
       "      <td>(A, T, G, T, C, G, T, C, C, C, C, G, C, A, G, ...</td>\n",
       "    </tr>\n",
       "    <tr>\n",
       "      <th>5</th>\n",
       "      <td>GNPDA1</td>\n",
       "      <td>10007</td>\n",
       "      <td>10</td>\n",
       "      <td>626</td>\n",
       "      <td>870</td>\n",
       "      <td>BC012853.2, BC022322.1</td>\n",
       "      <td>PERFECT_MATCH</td>\n",
       "      <td>(A, T, G, A, A, G, C, T, C, A, T, C, A, T, C, ...</td>\n",
       "    </tr>\n",
       "    <tr>\n",
       "      <th>6</th>\n",
       "      <td>GNPDA1</td>\n",
       "      <td>10007</td>\n",
       "      <td>10</td>\n",
       "      <td>12810</td>\n",
       "      <td>870</td>\n",
       "      <td>BC020769.1</td>\n",
       "      <td>PERFECT_MATCH</td>\n",
       "      <td>(A, T, G, A, A, G, C, T, C, A, T, C, A, T, C, ...</td>\n",
       "    </tr>\n",
       "    <tr>\n",
       "      <th>7</th>\n",
       "      <td>KCNE3</td>\n",
       "      <td>10008</td>\n",
       "      <td>132</td>\n",
       "      <td>9450</td>\n",
       "      <td>312</td>\n",
       "      <td>BC032235.1</td>\n",
       "      <td>PERFECT_MATCH</td>\n",
       "      <td>(A, T, G, G, A, G, A, C, T, A, C, C, A, A, T, ...</td>\n",
       "    </tr>\n",
       "    <tr>\n",
       "      <th>8</th>\n",
       "      <td>ZBTB42</td>\n",
       "      <td>100128927</td>\n",
       "      <td>6</td>\n",
       "      <td>70870</td>\n",
       "      <td>1269</td>\n",
       "      <td>BC157833.1</td>\n",
       "      <td>PERFECT_MATCH</td>\n",
       "      <td>(A, T, G, G, A, G, T, T, C, C, C, T, G, A, G, ...</td>\n",
       "    </tr>\n",
       "    <tr>\n",
       "      <th>9</th>\n",
       "      <td>HDAC6</td>\n",
       "      <td>10013</td>\n",
       "      <td>5</td>\n",
       "      <td>8810</td>\n",
       "      <td>441</td>\n",
       "      <td>BC005872.1, BC011498.1</td>\n",
       "      <td>PERFECT_MATCH</td>\n",
       "      <td>(A, T, G, A, C, C, T, C, A, A, C, C, G, G, C, ...</td>\n",
       "    </tr>\n",
       "  </tbody>\n",
       "</table>\n",
       "</div>"
      ],
      "text/plain": [
       "  Bait_Symbol  Entrez_gene_ID  Num_Interactors ORF_ID ORF_size  \\\n",
       "0        A1BG               1                5  10134     1122   \n",
       "1        NAT2              10                1   7722      873   \n",
       "2        AKT3           10000               11  56787     1398   \n",
       "3       NR2E3           10002                1  11340      969   \n",
       "4       ACOT8           10005                2  53919      960   \n",
       "5      GNPDA1           10007               10    626      870   \n",
       "6      GNPDA1           10007               10  12810      870   \n",
       "7       KCNE3           10008              132   9450      312   \n",
       "8      ZBTB42       100128927                6  70870     1269   \n",
       "9       HDAC6           10013                5   8810      441   \n",
       "\n",
       "             template_acc          match  \\\n",
       "0              BC035719.1  PERFECT_MATCH   \n",
       "1              BC015878.1  PERFECT_MATCH   \n",
       "2              BC121154.2  PERFECT_MATCH   \n",
       "3              BC041421.1  PERFECT_MATCH   \n",
       "4  BC117155.1, BC117157.1  PERFECT_MATCH   \n",
       "5  BC012853.2, BC022322.1  PERFECT_MATCH   \n",
       "6              BC020769.1  PERFECT_MATCH   \n",
       "7              BC032235.1  PERFECT_MATCH   \n",
       "8              BC157833.1  PERFECT_MATCH   \n",
       "9  BC005872.1, BC011498.1  PERFECT_MATCH   \n",
       "\n",
       "                                                 SEQ  \n",
       "0  (A, T, G, G, C, G, C, C, A, G, T, G, T, C, C, ...  \n",
       "1  (A, T, G, G, A, C, A, T, T, G, A, A, G, C, A, ...  \n",
       "2  (A, T, G, A, G, C, G, A, T, G, T, T, A, C, C, ...  \n",
       "3  (A, T, G, T, G, C, C, C, C, G, T, G, G, A, C, ...  \n",
       "4  (A, T, G, T, C, G, T, C, C, C, C, G, C, A, G, ...  \n",
       "5  (A, T, G, A, A, G, C, T, C, A, T, C, A, T, C, ...  \n",
       "6  (A, T, G, A, A, G, C, T, C, A, T, C, A, T, C, ...  \n",
       "7  (A, T, G, G, A, G, A, C, T, A, C, C, A, A, T, ...  \n",
       "8  (A, T, G, G, A, G, T, T, C, C, C, T, G, A, G, ...  \n",
       "9  (A, T, G, A, C, C, T, C, A, A, C, C, G, G, C, ...  "
      ]
     },
     "execution_count": 26,
     "metadata": {},
     "output_type": "execute_result"
    }
   ],
   "source": [
    "BioPlex_baits_df.head(n=10)"
   ]
  },
  {
   "cell_type": "code",
   "execution_count": 27,
   "metadata": {},
   "outputs": [
    {
     "data": {
      "text/plain": [
       "(6316, 8)"
      ]
     },
     "execution_count": 27,
     "metadata": {},
     "output_type": "execute_result"
    }
   ],
   "source": [
    "np.shape(BioPlex_baits_df)"
   ]
  },
  {
   "cell_type": "markdown",
   "metadata": {},
   "source": [
    "### [2.1] Baits that *do not* map to any ORFs"
   ]
  },
  {
   "cell_type": "code",
   "execution_count": 28,
   "metadata": {},
   "outputs": [],
   "source": [
    "BioPlex_baits_no_ORFs_dfs = BioPlex_baits_df[BioPlex_baits_df.ORF_ID.isnull()]"
   ]
  },
  {
   "cell_type": "code",
   "execution_count": 29,
   "metadata": {},
   "outputs": [
    {
     "data": {
      "text/html": [
       "<div>\n",
       "<style scoped>\n",
       "    .dataframe tbody tr th:only-of-type {\n",
       "        vertical-align: middle;\n",
       "    }\n",
       "\n",
       "    .dataframe tbody tr th {\n",
       "        vertical-align: top;\n",
       "    }\n",
       "\n",
       "    .dataframe thead th {\n",
       "        text-align: right;\n",
       "    }\n",
       "</style>\n",
       "<table border=\"1\" class=\"dataframe\">\n",
       "  <thead>\n",
       "    <tr style=\"text-align: right;\">\n",
       "      <th></th>\n",
       "      <th>Bait_Symbol</th>\n",
       "      <th>Entrez_gene_ID</th>\n",
       "      <th>Num_Interactors</th>\n",
       "      <th>ORF_ID</th>\n",
       "      <th>ORF_size</th>\n",
       "      <th>template_acc</th>\n",
       "      <th>match</th>\n",
       "      <th>SEQ</th>\n",
       "    </tr>\n",
       "  </thead>\n",
       "  <tbody>\n",
       "    <tr>\n",
       "      <th>18</th>\n",
       "      <td>IGLL5</td>\n",
       "      <td>100423062</td>\n",
       "      <td>39</td>\n",
       "      <td>NaN</td>\n",
       "      <td>NaN</td>\n",
       "      <td>NaN</td>\n",
       "      <td>NaN</td>\n",
       "      <td>NaN</td>\n",
       "    </tr>\n",
       "    <tr>\n",
       "      <th>20</th>\n",
       "      <td>SH2D3A</td>\n",
       "      <td>10045</td>\n",
       "      <td>63</td>\n",
       "      <td>NaN</td>\n",
       "      <td>NaN</td>\n",
       "      <td>NaN</td>\n",
       "      <td>NaN</td>\n",
       "      <td>NaN</td>\n",
       "    </tr>\n",
       "    <tr>\n",
       "      <th>55</th>\n",
       "      <td>CDH12</td>\n",
       "      <td>1010</td>\n",
       "      <td>13</td>\n",
       "      <td>NaN</td>\n",
       "      <td>NaN</td>\n",
       "      <td>NaN</td>\n",
       "      <td>NaN</td>\n",
       "      <td>NaN</td>\n",
       "    </tr>\n",
       "    <tr>\n",
       "      <th>78</th>\n",
       "      <td>PLXNC1</td>\n",
       "      <td>10154</td>\n",
       "      <td>2</td>\n",
       "      <td>NaN</td>\n",
       "      <td>NaN</td>\n",
       "      <td>NaN</td>\n",
       "      <td>NaN</td>\n",
       "      <td>NaN</td>\n",
       "    </tr>\n",
       "    <tr>\n",
       "      <th>91</th>\n",
       "      <td>THOC4</td>\n",
       "      <td>10189</td>\n",
       "      <td>7</td>\n",
       "      <td>NaN</td>\n",
       "      <td>NaN</td>\n",
       "      <td>NaN</td>\n",
       "      <td>NaN</td>\n",
       "      <td>NaN</td>\n",
       "    </tr>\n",
       "  </tbody>\n",
       "</table>\n",
       "</div>"
      ],
      "text/plain": [
       "   Bait_Symbol  Entrez_gene_ID  Num_Interactors ORF_ID ORF_size template_acc  \\\n",
       "18       IGLL5       100423062               39    NaN      NaN          NaN   \n",
       "20      SH2D3A           10045               63    NaN      NaN          NaN   \n",
       "55       CDH12            1010               13    NaN      NaN          NaN   \n",
       "78      PLXNC1           10154                2    NaN      NaN          NaN   \n",
       "91       THOC4           10189                7    NaN      NaN          NaN   \n",
       "\n",
       "   match  SEQ  \n",
       "18   NaN  NaN  \n",
       "20   NaN  NaN  \n",
       "55   NaN  NaN  \n",
       "78   NaN  NaN  \n",
       "91   NaN  NaN  "
      ]
     },
     "execution_count": 29,
     "metadata": {},
     "output_type": "execute_result"
    }
   ],
   "source": [
    "BioPlex_baits_no_ORFs_dfs.head()"
   ]
  },
  {
   "cell_type": "code",
   "execution_count": 30,
   "metadata": {},
   "outputs": [
    {
     "data": {
      "text/plain": [
       "(260, 8)"
      ]
     },
     "execution_count": 30,
     "metadata": {},
     "output_type": "execute_result"
    }
   ],
   "source": [
    "np.shape(BioPlex_baits_no_ORFs_dfs)"
   ]
  },
  {
   "cell_type": "markdown",
   "metadata": {},
   "source": [
    "**drop** baits that have no corresponding ORFs"
   ]
  },
  {
   "cell_type": "code",
   "execution_count": 31,
   "metadata": {},
   "outputs": [],
   "source": [
    "bait_has_ORF_filter = [not no_ORF_for_bait for no_ORF_for_bait in BioPlex_baits_df.ORF_ID.isnull()]\n",
    "BioPlex_baits_df = BioPlex_baits_df[bait_has_ORF_filter]\n",
    "BioPlex_baits_df.reset_index(inplace = True, drop = True)"
   ]
  },
  {
   "cell_type": "code",
   "execution_count": 32,
   "metadata": {},
   "outputs": [
    {
     "data": {
      "text/html": [
       "<div>\n",
       "<style scoped>\n",
       "    .dataframe tbody tr th:only-of-type {\n",
       "        vertical-align: middle;\n",
       "    }\n",
       "\n",
       "    .dataframe tbody tr th {\n",
       "        vertical-align: top;\n",
       "    }\n",
       "\n",
       "    .dataframe thead th {\n",
       "        text-align: right;\n",
       "    }\n",
       "</style>\n",
       "<table border=\"1\" class=\"dataframe\">\n",
       "  <thead>\n",
       "    <tr style=\"text-align: right;\">\n",
       "      <th></th>\n",
       "      <th>Bait_Symbol</th>\n",
       "      <th>Entrez_gene_ID</th>\n",
       "      <th>Num_Interactors</th>\n",
       "      <th>ORF_ID</th>\n",
       "      <th>ORF_size</th>\n",
       "      <th>template_acc</th>\n",
       "      <th>match</th>\n",
       "      <th>SEQ</th>\n",
       "    </tr>\n",
       "  </thead>\n",
       "  <tbody>\n",
       "    <tr>\n",
       "      <th>0</th>\n",
       "      <td>A1BG</td>\n",
       "      <td>1</td>\n",
       "      <td>5</td>\n",
       "      <td>10134</td>\n",
       "      <td>1122</td>\n",
       "      <td>BC035719.1</td>\n",
       "      <td>PERFECT_MATCH</td>\n",
       "      <td>(A, T, G, G, C, G, C, C, A, G, T, G, T, C, C, ...</td>\n",
       "    </tr>\n",
       "    <tr>\n",
       "      <th>1</th>\n",
       "      <td>NAT2</td>\n",
       "      <td>10</td>\n",
       "      <td>1</td>\n",
       "      <td>7722</td>\n",
       "      <td>873</td>\n",
       "      <td>BC015878.1</td>\n",
       "      <td>PERFECT_MATCH</td>\n",
       "      <td>(A, T, G, G, A, C, A, T, T, G, A, A, G, C, A, ...</td>\n",
       "    </tr>\n",
       "    <tr>\n",
       "      <th>2</th>\n",
       "      <td>AKT3</td>\n",
       "      <td>10000</td>\n",
       "      <td>11</td>\n",
       "      <td>56787</td>\n",
       "      <td>1398</td>\n",
       "      <td>BC121154.2</td>\n",
       "      <td>PERFECT_MATCH</td>\n",
       "      <td>(A, T, G, A, G, C, G, A, T, G, T, T, A, C, C, ...</td>\n",
       "    </tr>\n",
       "    <tr>\n",
       "      <th>3</th>\n",
       "      <td>NR2E3</td>\n",
       "      <td>10002</td>\n",
       "      <td>1</td>\n",
       "      <td>11340</td>\n",
       "      <td>969</td>\n",
       "      <td>BC041421.1</td>\n",
       "      <td>PERFECT_MATCH</td>\n",
       "      <td>(A, T, G, T, G, C, C, C, C, G, T, G, G, A, C, ...</td>\n",
       "    </tr>\n",
       "    <tr>\n",
       "      <th>4</th>\n",
       "      <td>ACOT8</td>\n",
       "      <td>10005</td>\n",
       "      <td>2</td>\n",
       "      <td>53919</td>\n",
       "      <td>960</td>\n",
       "      <td>BC117155.1, BC117157.1</td>\n",
       "      <td>PERFECT_MATCH</td>\n",
       "      <td>(A, T, G, T, C, G, T, C, C, C, C, G, C, A, G, ...</td>\n",
       "    </tr>\n",
       "  </tbody>\n",
       "</table>\n",
       "</div>"
      ],
      "text/plain": [
       "  Bait_Symbol  Entrez_gene_ID  Num_Interactors ORF_ID ORF_size  \\\n",
       "0        A1BG               1                5  10134     1122   \n",
       "1        NAT2              10                1   7722      873   \n",
       "2        AKT3           10000               11  56787     1398   \n",
       "3       NR2E3           10002                1  11340      969   \n",
       "4       ACOT8           10005                2  53919      960   \n",
       "\n",
       "             template_acc          match  \\\n",
       "0              BC035719.1  PERFECT_MATCH   \n",
       "1              BC015878.1  PERFECT_MATCH   \n",
       "2              BC121154.2  PERFECT_MATCH   \n",
       "3              BC041421.1  PERFECT_MATCH   \n",
       "4  BC117155.1, BC117157.1  PERFECT_MATCH   \n",
       "\n",
       "                                                 SEQ  \n",
       "0  (A, T, G, G, C, G, C, C, A, G, T, G, T, C, C, ...  \n",
       "1  (A, T, G, G, A, C, A, T, T, G, A, A, G, C, A, ...  \n",
       "2  (A, T, G, A, G, C, G, A, T, G, T, T, A, C, C, ...  \n",
       "3  (A, T, G, T, G, C, C, C, C, G, T, G, G, A, C, ...  \n",
       "4  (A, T, G, T, C, G, T, C, C, C, C, G, C, A, G, ...  "
      ]
     },
     "execution_count": 32,
     "metadata": {},
     "output_type": "execute_result"
    }
   ],
   "source": [
    "BioPlex_baits_df.head()"
   ]
  },
  {
   "cell_type": "code",
   "execution_count": 33,
   "metadata": {},
   "outputs": [
    {
     "data": {
      "text/plain": [
       "(6056, 8)"
      ]
     },
     "execution_count": 33,
     "metadata": {},
     "output_type": "execute_result"
    }
   ],
   "source": [
    "np.shape(BioPlex_baits_df)"
   ]
  },
  {
   "cell_type": "markdown",
   "metadata": {},
   "source": [
    "### [2.2] Baits that map to multiple ORFs vs. Baits that map to only one ORF\n",
    "- will appear as multiple Entrez gene ID row entries **or** appear as a single Entrez gene ID row entries"
   ]
  },
  {
   "cell_type": "code",
   "execution_count": 34,
   "metadata": {},
   "outputs": [],
   "source": [
    "num_ORFs_per_bait = pd.Series(Counter(BioPlex_baits_df.Entrez_gene_ID))\n",
    "num_ORFs_per_bait.sort_values(ascending = False, inplace = True)"
   ]
  },
  {
   "cell_type": "code",
   "execution_count": 35,
   "metadata": {},
   "outputs": [
    {
     "data": {
      "text/plain": [
       "53833    3\n",
       "55249    3\n",
       "dtype: int64"
      ]
     },
     "execution_count": 35,
     "metadata": {},
     "output_type": "execute_result"
    }
   ],
   "source": [
    "num_ORFs_per_bait.head(n=2)"
   ]
  },
  {
   "cell_type": "code",
   "execution_count": 36,
   "metadata": {},
   "outputs": [
    {
     "data": {
      "text/plain": [
       "2859    1\n",
       "9991    1\n",
       "dtype: int64"
      ]
     },
     "execution_count": 36,
     "metadata": {},
     "output_type": "execute_result"
    }
   ],
   "source": [
    "num_ORFs_per_bait.tail(n=2)"
   ]
  },
  {
   "cell_type": "code",
   "execution_count": 37,
   "metadata": {},
   "outputs": [
    {
     "data": {
      "text/plain": [
       "(5262,)"
      ]
     },
     "execution_count": 37,
     "metadata": {},
     "output_type": "execute_result"
    }
   ],
   "source": [
    "np.shape(num_ORFs_per_bait) #number of unique Entrez gene IDs represented"
   ]
  },
  {
   "cell_type": "code",
   "execution_count": 38,
   "metadata": {},
   "outputs": [
    {
     "data": {
      "text/plain": [
       "6056"
      ]
     },
     "execution_count": 38,
     "metadata": {},
     "output_type": "execute_result"
    }
   ],
   "source": [
    "num_ORFs_per_bait.sum()"
   ]
  },
  {
   "cell_type": "markdown",
   "metadata": {},
   "source": [
    "755 baits (Entrez gene IDs) map to multiple ORFs"
   ]
  },
  {
   "cell_type": "code",
   "execution_count": 39,
   "metadata": {
    "scrolled": true
   },
   "outputs": [
    {
     "data": {
      "text/plain": [
       "755"
      ]
     },
     "execution_count": 39,
     "metadata": {},
     "output_type": "execute_result"
    }
   ],
   "source": [
    "sum(num_ORFs_per_bait > 1)"
   ]
  },
  {
   "cell_type": "code",
   "execution_count": 40,
   "metadata": {},
   "outputs": [],
   "source": [
    "bait_Entrez_gene_IDs_multiple_ORFs = set(num_ORFs_per_bait[num_ORFs_per_bait > 1].index)\n",
    "bait_Entrez_gene_IDs_multiple_ORFs_filter = [(bait_Entrez_ID in bait_Entrez_gene_IDs_multiple_ORFs) for bait_Entrez_ID in BioPlex_baits_df.Entrez_gene_ID]"
   ]
  },
  {
   "cell_type": "code",
   "execution_count": 41,
   "metadata": {},
   "outputs": [
    {
     "data": {
      "text/html": [
       "<div>\n",
       "<style scoped>\n",
       "    .dataframe tbody tr th:only-of-type {\n",
       "        vertical-align: middle;\n",
       "    }\n",
       "\n",
       "    .dataframe tbody tr th {\n",
       "        vertical-align: top;\n",
       "    }\n",
       "\n",
       "    .dataframe thead th {\n",
       "        text-align: right;\n",
       "    }\n",
       "</style>\n",
       "<table border=\"1\" class=\"dataframe\">\n",
       "  <thead>\n",
       "    <tr style=\"text-align: right;\">\n",
       "      <th></th>\n",
       "      <th>Bait_Symbol</th>\n",
       "      <th>Entrez_gene_ID</th>\n",
       "      <th>Num_Interactors</th>\n",
       "      <th>ORF_ID</th>\n",
       "      <th>ORF_size</th>\n",
       "      <th>template_acc</th>\n",
       "      <th>match</th>\n",
       "      <th>SEQ</th>\n",
       "    </tr>\n",
       "  </thead>\n",
       "  <tbody>\n",
       "    <tr>\n",
       "      <th>5</th>\n",
       "      <td>GNPDA1</td>\n",
       "      <td>10007</td>\n",
       "      <td>10</td>\n",
       "      <td>626</td>\n",
       "      <td>870</td>\n",
       "      <td>BC012853.2, BC022322.1</td>\n",
       "      <td>PERFECT_MATCH</td>\n",
       "      <td>(A, T, G, A, A, G, C, T, C, A, T, C, A, T, C, ...</td>\n",
       "    </tr>\n",
       "    <tr>\n",
       "      <th>6</th>\n",
       "      <td>GNPDA1</td>\n",
       "      <td>10007</td>\n",
       "      <td>10</td>\n",
       "      <td>12810</td>\n",
       "      <td>870</td>\n",
       "      <td>BC020769.1</td>\n",
       "      <td>PERFECT_MATCH</td>\n",
       "      <td>(A, T, G, A, A, G, C, T, C, A, T, C, A, T, C, ...</td>\n",
       "    </tr>\n",
       "    <tr>\n",
       "      <th>9</th>\n",
       "      <td>HDAC6</td>\n",
       "      <td>10013</td>\n",
       "      <td>5</td>\n",
       "      <td>8810</td>\n",
       "      <td>441</td>\n",
       "      <td>BC005872.1, BC011498.1</td>\n",
       "      <td>PERFECT_MATCH</td>\n",
       "      <td>(A, T, G, A, C, C, T, C, A, A, C, C, G, G, C, ...</td>\n",
       "    </tr>\n",
       "    <tr>\n",
       "      <th>10</th>\n",
       "      <td>HDAC6</td>\n",
       "      <td>10013</td>\n",
       "      <td>5</td>\n",
       "      <td>2397</td>\n",
       "      <td>3192</td>\n",
       "      <td>BC013737.1</td>\n",
       "      <td>PERFECT_MATCH</td>\n",
       "      <td>(A, T, G, G, A, A, A, C, A, A, C, C, C, A, G, ...</td>\n",
       "    </tr>\n",
       "    <tr>\n",
       "      <th>14</th>\n",
       "      <td>PIGK</td>\n",
       "      <td>10026</td>\n",
       "      <td>6</td>\n",
       "      <td>1949</td>\n",
       "      <td>999</td>\n",
       "      <td>BC026186.1</td>\n",
       "      <td>PERFECT_MATCH</td>\n",
       "      <td>(A, T, G, G, C, C, G, T, C, A, C, C, G, A, C, ...</td>\n",
       "    </tr>\n",
       "    <tr>\n",
       "      <th>15</th>\n",
       "      <td>PIGK</td>\n",
       "      <td>10026</td>\n",
       "      <td>6</td>\n",
       "      <td>13054</td>\n",
       "      <td>1188</td>\n",
       "      <td>BC020737.1</td>\n",
       "      <td>PERFECT_MATCH</td>\n",
       "      <td>(A, T, G, G, C, C, G, T, C, A, C, C, G, A, C, ...</td>\n",
       "    </tr>\n",
       "  </tbody>\n",
       "</table>\n",
       "</div>"
      ],
      "text/plain": [
       "   Bait_Symbol  Entrez_gene_ID  Num_Interactors ORF_ID ORF_size  \\\n",
       "5       GNPDA1           10007               10    626      870   \n",
       "6       GNPDA1           10007               10  12810      870   \n",
       "9        HDAC6           10013                5   8810      441   \n",
       "10       HDAC6           10013                5   2397     3192   \n",
       "14        PIGK           10026                6   1949      999   \n",
       "15        PIGK           10026                6  13054     1188   \n",
       "\n",
       "              template_acc          match  \\\n",
       "5   BC012853.2, BC022322.1  PERFECT_MATCH   \n",
       "6               BC020769.1  PERFECT_MATCH   \n",
       "9   BC005872.1, BC011498.1  PERFECT_MATCH   \n",
       "10              BC013737.1  PERFECT_MATCH   \n",
       "14              BC026186.1  PERFECT_MATCH   \n",
       "15              BC020737.1  PERFECT_MATCH   \n",
       "\n",
       "                                                  SEQ  \n",
       "5   (A, T, G, A, A, G, C, T, C, A, T, C, A, T, C, ...  \n",
       "6   (A, T, G, A, A, G, C, T, C, A, T, C, A, T, C, ...  \n",
       "9   (A, T, G, A, C, C, T, C, A, A, C, C, G, G, C, ...  \n",
       "10  (A, T, G, G, A, A, A, C, A, A, C, C, C, A, G, ...  \n",
       "14  (A, T, G, G, C, C, G, T, C, A, C, C, G, A, C, ...  \n",
       "15  (A, T, G, G, C, C, G, T, C, A, C, C, G, A, C, ...  "
      ]
     },
     "execution_count": 41,
     "metadata": {},
     "output_type": "execute_result"
    }
   ],
   "source": [
    "BioPlex_baits_df[bait_Entrez_gene_IDs_multiple_ORFs_filter].head(n = 6)"
   ]
  },
  {
   "cell_type": "markdown",
   "metadata": {},
   "source": [
    "4,507 baits (Entrez gene IDs) map to a single ORF"
   ]
  },
  {
   "cell_type": "code",
   "execution_count": 42,
   "metadata": {
    "scrolled": true
   },
   "outputs": [
    {
     "data": {
      "text/plain": [
       "4507"
      ]
     },
     "execution_count": 42,
     "metadata": {},
     "output_type": "execute_result"
    }
   ],
   "source": [
    "sum(num_ORFs_per_bait == 1)"
   ]
  },
  {
   "cell_type": "code",
   "execution_count": 43,
   "metadata": {},
   "outputs": [],
   "source": [
    "bait_Entrez_gene_IDs_one_ORF = set(num_ORFs_per_bait[num_ORFs_per_bait == 1].index)\n",
    "bait_Entrez_gene_IDs_one_ORF_filter = [(bait_Entrez_ID in bait_Entrez_gene_IDs_one_ORF) for bait_Entrez_ID in BioPlex_baits_df.Entrez_gene_ID]"
   ]
  },
  {
   "cell_type": "code",
   "execution_count": 44,
   "metadata": {},
   "outputs": [
    {
     "data": {
      "text/html": [
       "<div>\n",
       "<style scoped>\n",
       "    .dataframe tbody tr th:only-of-type {\n",
       "        vertical-align: middle;\n",
       "    }\n",
       "\n",
       "    .dataframe tbody tr th {\n",
       "        vertical-align: top;\n",
       "    }\n",
       "\n",
       "    .dataframe thead th {\n",
       "        text-align: right;\n",
       "    }\n",
       "</style>\n",
       "<table border=\"1\" class=\"dataframe\">\n",
       "  <thead>\n",
       "    <tr style=\"text-align: right;\">\n",
       "      <th></th>\n",
       "      <th>Bait_Symbol</th>\n",
       "      <th>Entrez_gene_ID</th>\n",
       "      <th>Num_Interactors</th>\n",
       "      <th>ORF_ID</th>\n",
       "      <th>ORF_size</th>\n",
       "      <th>template_acc</th>\n",
       "      <th>match</th>\n",
       "      <th>SEQ</th>\n",
       "    </tr>\n",
       "  </thead>\n",
       "  <tbody>\n",
       "    <tr>\n",
       "      <th>0</th>\n",
       "      <td>A1BG</td>\n",
       "      <td>1</td>\n",
       "      <td>5</td>\n",
       "      <td>10134</td>\n",
       "      <td>1122</td>\n",
       "      <td>BC035719.1</td>\n",
       "      <td>PERFECT_MATCH</td>\n",
       "      <td>(A, T, G, G, C, G, C, C, A, G, T, G, T, C, C, ...</td>\n",
       "    </tr>\n",
       "    <tr>\n",
       "      <th>1</th>\n",
       "      <td>NAT2</td>\n",
       "      <td>10</td>\n",
       "      <td>1</td>\n",
       "      <td>7722</td>\n",
       "      <td>873</td>\n",
       "      <td>BC015878.1</td>\n",
       "      <td>PERFECT_MATCH</td>\n",
       "      <td>(A, T, G, G, A, C, A, T, T, G, A, A, G, C, A, ...</td>\n",
       "    </tr>\n",
       "    <tr>\n",
       "      <th>2</th>\n",
       "      <td>AKT3</td>\n",
       "      <td>10000</td>\n",
       "      <td>11</td>\n",
       "      <td>56787</td>\n",
       "      <td>1398</td>\n",
       "      <td>BC121154.2</td>\n",
       "      <td>PERFECT_MATCH</td>\n",
       "      <td>(A, T, G, A, G, C, G, A, T, G, T, T, A, C, C, ...</td>\n",
       "    </tr>\n",
       "    <tr>\n",
       "      <th>3</th>\n",
       "      <td>NR2E3</td>\n",
       "      <td>10002</td>\n",
       "      <td>1</td>\n",
       "      <td>11340</td>\n",
       "      <td>969</td>\n",
       "      <td>BC041421.1</td>\n",
       "      <td>PERFECT_MATCH</td>\n",
       "      <td>(A, T, G, T, G, C, C, C, C, G, T, G, G, A, C, ...</td>\n",
       "    </tr>\n",
       "    <tr>\n",
       "      <th>4</th>\n",
       "      <td>ACOT8</td>\n",
       "      <td>10005</td>\n",
       "      <td>2</td>\n",
       "      <td>53919</td>\n",
       "      <td>960</td>\n",
       "      <td>BC117155.1, BC117157.1</td>\n",
       "      <td>PERFECT_MATCH</td>\n",
       "      <td>(A, T, G, T, C, G, T, C, C, C, C, G, C, A, G, ...</td>\n",
       "    </tr>\n",
       "    <tr>\n",
       "      <th>7</th>\n",
       "      <td>KCNE3</td>\n",
       "      <td>10008</td>\n",
       "      <td>132</td>\n",
       "      <td>9450</td>\n",
       "      <td>312</td>\n",
       "      <td>BC032235.1</td>\n",
       "      <td>PERFECT_MATCH</td>\n",
       "      <td>(A, T, G, G, A, G, A, C, T, A, C, C, A, A, T, ...</td>\n",
       "    </tr>\n",
       "  </tbody>\n",
       "</table>\n",
       "</div>"
      ],
      "text/plain": [
       "  Bait_Symbol  Entrez_gene_ID  Num_Interactors ORF_ID ORF_size  \\\n",
       "0        A1BG               1                5  10134     1122   \n",
       "1        NAT2              10                1   7722      873   \n",
       "2        AKT3           10000               11  56787     1398   \n",
       "3       NR2E3           10002                1  11340      969   \n",
       "4       ACOT8           10005                2  53919      960   \n",
       "7       KCNE3           10008              132   9450      312   \n",
       "\n",
       "             template_acc          match  \\\n",
       "0              BC035719.1  PERFECT_MATCH   \n",
       "1              BC015878.1  PERFECT_MATCH   \n",
       "2              BC121154.2  PERFECT_MATCH   \n",
       "3              BC041421.1  PERFECT_MATCH   \n",
       "4  BC117155.1, BC117157.1  PERFECT_MATCH   \n",
       "7              BC032235.1  PERFECT_MATCH   \n",
       "\n",
       "                                                 SEQ  \n",
       "0  (A, T, G, G, C, G, C, C, A, G, T, G, T, C, C, ...  \n",
       "1  (A, T, G, G, A, C, A, T, T, G, A, A, G, C, A, ...  \n",
       "2  (A, T, G, A, G, C, G, A, T, G, T, T, A, C, C, ...  \n",
       "3  (A, T, G, T, G, C, C, C, C, G, T, G, G, A, C, ...  \n",
       "4  (A, T, G, T, C, G, T, C, C, C, C, G, C, A, G, ...  \n",
       "7  (A, T, G, G, A, G, A, C, T, A, C, C, A, A, T, ...  "
      ]
     },
     "execution_count": 44,
     "metadata": {},
     "output_type": "execute_result"
    }
   ],
   "source": [
    "BioPlex_baits_df[bait_Entrez_gene_IDs_one_ORF_filter].head(n = 6)"
   ]
  },
  {
   "cell_type": "markdown",
   "metadata": {},
   "source": [
    "## [3] Interactions"
   ]
  },
  {
   "cell_type": "markdown",
   "metadata": {},
   "source": [
    "_Column Descriptions_\n",
    "- **GeneA**: Entrez Gene ID for the first interacting protein\n",
    "- **GeneB**: Entrez Gene ID for the second interacting protein\n",
    "- **SymbolA**: Symbol for the first interacting protein\n",
    "- **SymbolB**: Symbol for the second interacting protein\n",
    "- **p(Wrong ID)**: Probability of wrong protein ID (CompPASS-Plus)\n",
    "- **p(NotInteractor)**: Probability of nonspecific background (CompPASS-Plus)\n",
    "- **p(Interactor)**: Probability of high-confidence interaction (CompPASS-Plus)"
   ]
  },
  {
   "cell_type": "code",
   "execution_count": 45,
   "metadata": {},
   "outputs": [],
   "source": [
    "# load BioPlex 3.0 interactions for HCT116 cell line, 70966 interactions\n",
    "BioPlex_interactions_df = pd.read_csv(f'{BioPlex_dir}/data/interactions/BioPlex_3.0_interactions_HCT116_cells.tsv', sep = '\\t')"
   ]
  },
  {
   "cell_type": "code",
   "execution_count": 46,
   "metadata": {},
   "outputs": [
    {
     "data": {
      "text/html": [
       "<div>\n",
       "<style scoped>\n",
       "    .dataframe tbody tr th:only-of-type {\n",
       "        vertical-align: middle;\n",
       "    }\n",
       "\n",
       "    .dataframe tbody tr th {\n",
       "        vertical-align: top;\n",
       "    }\n",
       "\n",
       "    .dataframe thead th {\n",
       "        text-align: right;\n",
       "    }\n",
       "</style>\n",
       "<table border=\"1\" class=\"dataframe\">\n",
       "  <thead>\n",
       "    <tr style=\"text-align: right;\">\n",
       "      <th></th>\n",
       "      <th>GeneA</th>\n",
       "      <th>GeneB</th>\n",
       "      <th>UniprotA</th>\n",
       "      <th>UniprotB</th>\n",
       "      <th>SymbolA</th>\n",
       "      <th>SymbolB</th>\n",
       "      <th>pW</th>\n",
       "      <th>pNI</th>\n",
       "      <th>pInt</th>\n",
       "    </tr>\n",
       "  </thead>\n",
       "  <tbody>\n",
       "    <tr>\n",
       "      <th>0</th>\n",
       "      <td>88455</td>\n",
       "      <td>50649</td>\n",
       "      <td>Q8IZ07</td>\n",
       "      <td>Q9NR80-4</td>\n",
       "      <td>ANKRD13A</td>\n",
       "      <td>ARHGEF4</td>\n",
       "      <td>3.959215e-04</td>\n",
       "      <td>0.000033</td>\n",
       "      <td>0.999571</td>\n",
       "    </tr>\n",
       "    <tr>\n",
       "      <th>1</th>\n",
       "      <td>88455</td>\n",
       "      <td>115106</td>\n",
       "      <td>Q8IZ07</td>\n",
       "      <td>Q96CS2</td>\n",
       "      <td>ANKRD13A</td>\n",
       "      <td>HAUS1</td>\n",
       "      <td>4.488473e-02</td>\n",
       "      <td>0.001935</td>\n",
       "      <td>0.953181</td>\n",
       "    </tr>\n",
       "    <tr>\n",
       "      <th>2</th>\n",
       "      <td>88455</td>\n",
       "      <td>23086</td>\n",
       "      <td>Q8IZ07</td>\n",
       "      <td>Q8NEV8-2</td>\n",
       "      <td>ANKRD13A</td>\n",
       "      <td>EXPH5</td>\n",
       "      <td>7.402394e-05</td>\n",
       "      <td>0.000930</td>\n",
       "      <td>0.998996</td>\n",
       "    </tr>\n",
       "    <tr>\n",
       "      <th>3</th>\n",
       "      <td>88455</td>\n",
       "      <td>54930</td>\n",
       "      <td>Q8IZ07</td>\n",
       "      <td>Q9H6D7</td>\n",
       "      <td>ANKRD13A</td>\n",
       "      <td>HAUS4</td>\n",
       "      <td>9.180959e-07</td>\n",
       "      <td>0.000128</td>\n",
       "      <td>0.999871</td>\n",
       "    </tr>\n",
       "    <tr>\n",
       "      <th>4</th>\n",
       "      <td>88455</td>\n",
       "      <td>79441</td>\n",
       "      <td>Q8IZ07</td>\n",
       "      <td>Q68CZ6</td>\n",
       "      <td>ANKRD13A</td>\n",
       "      <td>HAUS3</td>\n",
       "      <td>8.709394e-07</td>\n",
       "      <td>0.001495</td>\n",
       "      <td>0.998504</td>\n",
       "    </tr>\n",
       "  </tbody>\n",
       "</table>\n",
       "</div>"
      ],
      "text/plain": [
       "   GeneA   GeneB UniprotA  UniprotB   SymbolA  SymbolB            pW  \\\n",
       "0  88455   50649   Q8IZ07  Q9NR80-4  ANKRD13A  ARHGEF4  3.959215e-04   \n",
       "1  88455  115106   Q8IZ07    Q96CS2  ANKRD13A    HAUS1  4.488473e-02   \n",
       "2  88455   23086   Q8IZ07  Q8NEV8-2  ANKRD13A    EXPH5  7.402394e-05   \n",
       "3  88455   54930   Q8IZ07    Q9H6D7  ANKRD13A    HAUS4  9.180959e-07   \n",
       "4  88455   79441   Q8IZ07    Q68CZ6  ANKRD13A    HAUS3  8.709394e-07   \n",
       "\n",
       "        pNI      pInt  \n",
       "0  0.000033  0.999571  \n",
       "1  0.001935  0.953181  \n",
       "2  0.000930  0.998996  \n",
       "3  0.000128  0.999871  \n",
       "4  0.001495  0.998504  "
      ]
     },
     "execution_count": 46,
     "metadata": {},
     "output_type": "execute_result"
    }
   ],
   "source": [
    "BioPlex_interactions_df.head()"
   ]
  },
  {
   "cell_type": "code",
   "execution_count": 47,
   "metadata": {},
   "outputs": [
    {
     "data": {
      "text/html": [
       "<div>\n",
       "<style scoped>\n",
       "    .dataframe tbody tr th:only-of-type {\n",
       "        vertical-align: middle;\n",
       "    }\n",
       "\n",
       "    .dataframe tbody tr th {\n",
       "        vertical-align: top;\n",
       "    }\n",
       "\n",
       "    .dataframe thead th {\n",
       "        text-align: right;\n",
       "    }\n",
       "</style>\n",
       "<table border=\"1\" class=\"dataframe\">\n",
       "  <thead>\n",
       "    <tr style=\"text-align: right;\">\n",
       "      <th></th>\n",
       "      <th>GeneA</th>\n",
       "      <th>GeneB</th>\n",
       "      <th>UniprotA</th>\n",
       "      <th>UniprotB</th>\n",
       "      <th>SymbolA</th>\n",
       "      <th>SymbolB</th>\n",
       "      <th>pW</th>\n",
       "      <th>pNI</th>\n",
       "      <th>pInt</th>\n",
       "    </tr>\n",
       "  </thead>\n",
       "  <tbody>\n",
       "    <tr>\n",
       "      <th>70961</th>\n",
       "      <td>55118</td>\n",
       "      <td>100509631</td>\n",
       "      <td>Q9NQ79-2</td>\n",
       "      <td>F5H8C6</td>\n",
       "      <td>CRTAC1</td>\n",
       "      <td>LOC100509631</td>\n",
       "      <td>1.619493e-01</td>\n",
       "      <td>0.003972</td>\n",
       "      <td>0.834079</td>\n",
       "    </tr>\n",
       "    <tr>\n",
       "      <th>70962</th>\n",
       "      <td>1813</td>\n",
       "      <td>2177</td>\n",
       "      <td>P14416-3</td>\n",
       "      <td>Q9BXW9-2</td>\n",
       "      <td>DRD2</td>\n",
       "      <td>FANCD2</td>\n",
       "      <td>1.538024e-04</td>\n",
       "      <td>0.174397</td>\n",
       "      <td>0.825449</td>\n",
       "    </tr>\n",
       "    <tr>\n",
       "      <th>70963</th>\n",
       "      <td>1813</td>\n",
       "      <td>22870</td>\n",
       "      <td>P14416-3</td>\n",
       "      <td>Q9UPN7</td>\n",
       "      <td>DRD2</td>\n",
       "      <td>PPP6R1</td>\n",
       "      <td>1.464248e-08</td>\n",
       "      <td>0.072449</td>\n",
       "      <td>0.927551</td>\n",
       "    </tr>\n",
       "    <tr>\n",
       "      <th>70964</th>\n",
       "      <td>1813</td>\n",
       "      <td>23243</td>\n",
       "      <td>P14416-3</td>\n",
       "      <td>O15084-1</td>\n",
       "      <td>DRD2</td>\n",
       "      <td>ANKRD28</td>\n",
       "      <td>2.105728e-04</td>\n",
       "      <td>0.202417</td>\n",
       "      <td>0.797373</td>\n",
       "    </tr>\n",
       "    <tr>\n",
       "      <th>70965</th>\n",
       "      <td>1910</td>\n",
       "      <td>57038</td>\n",
       "      <td>P24530-3</td>\n",
       "      <td>Q5T160</td>\n",
       "      <td>EDNRB</td>\n",
       "      <td>RARS2</td>\n",
       "      <td>1.006970e-01</td>\n",
       "      <td>0.079565</td>\n",
       "      <td>0.819738</td>\n",
       "    </tr>\n",
       "  </tbody>\n",
       "</table>\n",
       "</div>"
      ],
      "text/plain": [
       "       GeneA      GeneB  UniprotA  UniprotB SymbolA       SymbolB  \\\n",
       "70961  55118  100509631  Q9NQ79-2    F5H8C6  CRTAC1  LOC100509631   \n",
       "70962   1813       2177  P14416-3  Q9BXW9-2    DRD2        FANCD2   \n",
       "70963   1813      22870  P14416-3    Q9UPN7    DRD2        PPP6R1   \n",
       "70964   1813      23243  P14416-3  O15084-1    DRD2       ANKRD28   \n",
       "70965   1910      57038  P24530-3    Q5T160   EDNRB         RARS2   \n",
       "\n",
       "                 pW       pNI      pInt  \n",
       "70961  1.619493e-01  0.003972  0.834079  \n",
       "70962  1.538024e-04  0.174397  0.825449  \n",
       "70963  1.464248e-08  0.072449  0.927551  \n",
       "70964  2.105728e-04  0.202417  0.797373  \n",
       "70965  1.006970e-01  0.079565  0.819738  "
      ]
     },
     "execution_count": 47,
     "metadata": {},
     "output_type": "execute_result"
    }
   ],
   "source": [
    "BioPlex_interactions_df.tail()"
   ]
  },
  {
   "cell_type": "code",
   "execution_count": 48,
   "metadata": {},
   "outputs": [
    {
     "data": {
      "text/plain": [
       "(70966, 9)"
      ]
     },
     "execution_count": 48,
     "metadata": {},
     "output_type": "execute_result"
    }
   ],
   "source": [
    "BioPlex_interactions_df.shape"
   ]
  },
  {
   "cell_type": "markdown",
   "metadata": {},
   "source": [
    "## [4] Pairs of genes that are not *recipricol* in the network"
   ]
  },
  {
   "cell_type": "code",
   "execution_count": 49,
   "metadata": {},
   "outputs": [],
   "source": [
    "# find which pairs of genes are not \"recipricol\" (Gene1 > Gene2 but NOT Gene2 > Gene1) or (Gene2 > Gene1 but NOT Gene1 > Gene2)\n",
    "unique_GeneA_ids = list(set(BioPlex_interactions_df.GeneA))\n",
    "unique_GeneB_ids = list(set(BioPlex_interactions_df.GeneB))\n",
    "all_unique_Gene_ids = set(unique_GeneA_ids + unique_GeneB_ids) # all genes detected in network"
   ]
  },
  {
   "cell_type": "code",
   "execution_count": 50,
   "metadata": {},
   "outputs": [
    {
     "data": {
      "text/plain": [
       "4866"
      ]
     },
     "execution_count": 50,
     "metadata": {},
     "output_type": "execute_result"
    }
   ],
   "source": [
    "len(unique_GeneA_ids)"
   ]
  },
  {
   "cell_type": "code",
   "execution_count": 51,
   "metadata": {},
   "outputs": [
    {
     "data": {
      "text/plain": [
       "7903"
      ]
     },
     "execution_count": 51,
     "metadata": {},
     "output_type": "execute_result"
    }
   ],
   "source": [
    "len(unique_GeneB_ids)"
   ]
  },
  {
   "cell_type": "code",
   "execution_count": 52,
   "metadata": {},
   "outputs": [
    {
     "data": {
      "text/plain": [
       "10115"
      ]
     },
     "execution_count": 52,
     "metadata": {},
     "output_type": "execute_result"
    }
   ],
   "source": [
    "len(all_unique_Gene_ids) # 10,531 proteins reported in Hutten et al Cell 2021"
   ]
  },
  {
   "cell_type": "markdown",
   "metadata": {},
   "source": [
    "How many of **GeneA** were also **baits**?"
   ]
  },
  {
   "cell_type": "code",
   "execution_count": 53,
   "metadata": {},
   "outputs": [
    {
     "data": {
      "text/plain": [
       "4866"
      ]
     },
     "execution_count": 53,
     "metadata": {},
     "output_type": "execute_result"
    }
   ],
   "source": [
    "np.sum([(gene_i in bait_Entrez_Gene_ids) for gene_i in unique_GeneA_ids])"
   ]
  },
  {
   "cell_type": "markdown",
   "metadata": {},
   "source": [
    "How many of **GeneB** were also **baits**?"
   ]
  },
  {
   "cell_type": "code",
   "execution_count": 54,
   "metadata": {},
   "outputs": [
    {
     "data": {
      "text/plain": [
       "2894"
      ]
     },
     "execution_count": 54,
     "metadata": {},
     "output_type": "execute_result"
    }
   ],
   "source": [
    "np.sum([(gene_i in bait_Entrez_Gene_ids) for gene_i in unique_GeneB_ids])"
   ]
  },
  {
   "cell_type": "markdown",
   "metadata": {},
   "source": [
    "**GeneA** is always a **bait**, **GeneB** is always a **prey**"
   ]
  },
  {
   "cell_type": "markdown",
   "metadata": {},
   "source": [
    "If genes are recipricol then **(GeneA-GeneB + GeneB-GeneA) = 2** else **(GeneA-GeneB + GeneB-GeneA) = 1**"
   ]
  },
  {
   "cell_type": "code",
   "execution_count": 55,
   "metadata": {},
   "outputs": [],
   "source": [
    "GeneA_GeneB_list = [(str(BioPlex_interactions_df.loc[interaction_i,'GeneA']) + '_' + str(BioPlex_interactions_df.loc[interaction_i,'GeneB'])) for interaction_i in BioPlex_interactions_df.index] # GeneA - GeneB\n",
    "GeneB_GeneA_list = [(str(BioPlex_interactions_df.loc[interaction_i,'GeneB']) + '_' + str(BioPlex_interactions_df.loc[interaction_i,'GeneA'])) for interaction_i in BioPlex_interactions_df.index] # GeneB - GeneA\n",
    "gene_pair_recip_count = pd.Series(Counter(GeneA_GeneB_list + GeneB_GeneA_list))"
   ]
  },
  {
   "cell_type": "code",
   "execution_count": 56,
   "metadata": {},
   "outputs": [
    {
     "data": {
      "text/plain": [
       "88455_50649    1\n",
       "53407_9342     1\n",
       "55610_9342     1\n",
       "60412_9342     1\n",
       "8775_9342      1\n",
       "              ..\n",
       "5553_8692      1\n",
       "80863_92840    1\n",
       "80863_10550    1\n",
       "5553_115908    1\n",
       "57038_1910     1\n",
       "Length: 141932, dtype: int64"
      ]
     },
     "execution_count": 56,
     "metadata": {},
     "output_type": "execute_result"
    }
   ],
   "source": [
    "gene_pair_recip_count.sort_values(ascending = True)"
   ]
  },
  {
   "cell_type": "code",
   "execution_count": 57,
   "metadata": {},
   "outputs": [
    {
     "data": {
      "text/plain": [
       "['88455_50649', '88455_115106', '88455_23086', '88455_54930', '88455_79441']"
      ]
     },
     "execution_count": 57,
     "metadata": {},
     "output_type": "execute_result"
    }
   ],
   "source": [
    "GeneA_GeneB_list[0:5]"
   ]
  },
  {
   "cell_type": "code",
   "execution_count": 58,
   "metadata": {},
   "outputs": [
    {
     "data": {
      "text/plain": [
       "['50649_88455', '115106_88455', '23086_88455', '54930_88455', '79441_88455']"
      ]
     },
     "execution_count": 58,
     "metadata": {},
     "output_type": "execute_result"
    }
   ],
   "source": [
    "GeneB_GeneA_list[0:5]"
   ]
  },
  {
   "cell_type": "markdown",
   "metadata": {},
   "source": [
    "Non-redundant list of **bait-prey** pairs! Why? Any **baits** that were found to associate reciprocally had their scores combined\n",
    "\n",
    "From *Huttlin et al 2015 Cell* : \"After filtering, a non-redundant list of bait-prey pairs was assembled...In cases where two baits reciprocally associated with each other, their CompPASS-Plus scores were combined...\""
   ]
  },
  {
   "cell_type": "code",
   "execution_count": null,
   "metadata": {},
   "outputs": [],
   "source": []
  }
 ],
 "metadata": {
  "kernelspec": {
   "display_name": "Python [conda env:CCB_BioPlex]",
   "language": "python",
   "name": "conda-env-CCB_BioPlex-py"
  },
  "language_info": {
   "codemirror_mode": {
    "name": "ipython",
    "version": 3
   },
   "file_extension": ".py",
   "mimetype": "text/x-python",
   "name": "python",
   "nbconvert_exporter": "python",
   "pygments_lexer": "ipython3",
   "version": "3.7.11"
  }
 },
 "nbformat": 4,
 "nbformat_minor": 2
}
