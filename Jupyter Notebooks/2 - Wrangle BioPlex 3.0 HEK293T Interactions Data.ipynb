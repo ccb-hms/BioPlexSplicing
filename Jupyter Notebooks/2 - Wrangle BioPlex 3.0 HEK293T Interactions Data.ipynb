{
 "cells": [
  {
   "cell_type": "code",
   "execution_count": 1,
   "metadata": {},
   "outputs": [
    {
     "data": {
      "text/html": [
       "<style>.container { width:100% !important; }</style>"
      ],
      "text/plain": [
       "<IPython.core.display.HTML object>"
      ]
     },
     "metadata": {},
     "output_type": "display_data"
    }
   ],
   "source": [
    "from IPython.core.display import display, HTML\n",
    "display(HTML(\"<style>.container { width:100% !important; }</style>\"))"
   ]
  },
  {
   "cell_type": "markdown",
   "metadata": {},
   "source": [
    "## Load BioPlex Interactions"
   ]
  },
  {
   "cell_type": "code",
   "execution_count": 2,
   "metadata": {},
   "outputs": [],
   "source": [
    "import pandas as pd\n",
    "import numpy as np\n",
    "import matplotlib.pyplot as plt\n",
    "import matplotlib as mpl\n",
    "from collections import Counter\n",
    "\n",
    "# path to working dir\n",
    "BioPlex_dir = '/n/data1/hms/dbmi/farhat/Roger/CCB/BioPlex'"
   ]
  },
  {
   "cell_type": "code",
   "execution_count": 3,
   "metadata": {},
   "outputs": [],
   "source": [
    "plt.style.use('ggplot')\n",
    "plt.rcParams['lines.linewidth']=3\n",
    "plt.rcParams['axes.facecolor']='1.0'\n",
    "plt.rcParams['xtick.color']='black'\n",
    "plt.rcParams['axes.grid']=True\n",
    "plt.rcParams['axes.edgecolor']='black'\n",
    "plt.rcParams['grid.color']= '1.0'\n",
    "plt.rcParams.update({'font.size': 12})"
   ]
  },
  {
   "cell_type": "markdown",
   "metadata": {},
   "source": [
    "## [1] Baits"
   ]
  },
  {
   "cell_type": "code",
   "execution_count": 146,
   "metadata": {},
   "outputs": [],
   "source": [
    "# load list of all \"baits\" targeted for AP-MS in 293T cells (Gene Symbol & Entrez Gene ID for proteins targeted as baits; number of interacting proteins identified)\n",
    "BioPlex_baits_df = pd.read_csv(f'{BioPlex_dir}/data/baits/BioPlex_3.0_HEK293T_baits.csv', sep = ',')"
   ]
  },
  {
   "cell_type": "code",
   "execution_count": 147,
   "metadata": {},
   "outputs": [
    {
     "data": {
      "text/html": [
       "<div>\n",
       "<style scoped>\n",
       "    .dataframe tbody tr th:only-of-type {\n",
       "        vertical-align: middle;\n",
       "    }\n",
       "\n",
       "    .dataframe tbody tr th {\n",
       "        vertical-align: top;\n",
       "    }\n",
       "\n",
       "    .dataframe thead th {\n",
       "        text-align: right;\n",
       "    }\n",
       "</style>\n",
       "<table border=\"1\" class=\"dataframe\">\n",
       "  <thead>\n",
       "    <tr style=\"text-align: right;\">\n",
       "      <th></th>\n",
       "      <th>Bait_Symbol</th>\n",
       "      <th>Entrez_gene_ID</th>\n",
       "      <th>Num_Interactors</th>\n",
       "    </tr>\n",
       "  </thead>\n",
       "  <tbody>\n",
       "    <tr>\n",
       "      <th>0</th>\n",
       "      <td>A1BG</td>\n",
       "      <td>1</td>\n",
       "      <td>9</td>\n",
       "    </tr>\n",
       "    <tr>\n",
       "      <th>1</th>\n",
       "      <td>NAT2</td>\n",
       "      <td>10</td>\n",
       "      <td>5</td>\n",
       "    </tr>\n",
       "    <tr>\n",
       "      <th>2</th>\n",
       "      <td>ADA</td>\n",
       "      <td>100</td>\n",
       "      <td>2</td>\n",
       "    </tr>\n",
       "    <tr>\n",
       "      <th>3</th>\n",
       "      <td>AKT3</td>\n",
       "      <td>10000</td>\n",
       "      <td>13</td>\n",
       "    </tr>\n",
       "    <tr>\n",
       "      <th>4</th>\n",
       "      <td>NR2E3</td>\n",
       "      <td>10002</td>\n",
       "      <td>2</td>\n",
       "    </tr>\n",
       "  </tbody>\n",
       "</table>\n",
       "</div>"
      ],
      "text/plain": [
       "  Bait_Symbol  Entrez_gene_ID  Num_Interactors\n",
       "0        A1BG               1                9\n",
       "1        NAT2              10                5\n",
       "2         ADA             100                2\n",
       "3        AKT3           10000               13\n",
       "4       NR2E3           10002                2"
      ]
     },
     "execution_count": 147,
     "metadata": {},
     "output_type": "execute_result"
    }
   ],
   "source": [
    "BioPlex_baits_df.head()"
   ]
  },
  {
   "cell_type": "code",
   "execution_count": 148,
   "metadata": {},
   "outputs": [
    {
     "data": {
      "text/plain": [
       "(10128, 3)"
      ]
     },
     "execution_count": 148,
     "metadata": {},
     "output_type": "execute_result"
    }
   ],
   "source": [
    "np.shape(BioPlex_baits_df)"
   ]
  },
  {
   "cell_type": "code",
   "execution_count": 149,
   "metadata": {},
   "outputs": [],
   "source": [
    "bait_Entrez_Gene_ids = set(BioPlex_baits_df.Entrez_gene_ID)"
   ]
  },
  {
   "cell_type": "markdown",
   "metadata": {},
   "source": [
    "How many **baits** had **zero** interactors?"
   ]
  },
  {
   "cell_type": "code",
   "execution_count": 150,
   "metadata": {},
   "outputs": [
    {
     "data": {
      "text/plain": [
       "(78, 3)"
      ]
     },
     "execution_count": 150,
     "metadata": {},
     "output_type": "execute_result"
    }
   ],
   "source": [
    "np.shape(BioPlex_baits_df[BioPlex_baits_df.Num_Interactors == 0])"
   ]
  },
  {
   "cell_type": "markdown",
   "metadata": {},
   "source": [
    "Distribution of **Number of Interactions** for each **bait**"
   ]
  },
  {
   "cell_type": "code",
   "execution_count": 151,
   "metadata": {},
   "outputs": [
    {
     "data": {
      "image/png": "[encoded data removed]",
      "text/plain": [
       "<Figure size 540x378 with 1 Axes>"
      ]
     },
     "metadata": {},
     "output_type": "display_data"
    }
   ],
   "source": [
    "fig , ax = plt.subplots()\n",
    "\n",
    "n , bins , patches = plt.hist(BioPlex_baits_df.Num_Interactors , bins = 60 , color = 'k' , rwidth = 1.0 , edgecolor='white', linewidth=1.35)\n",
    "\n",
    "# plt.title('Number of Isolates Each SNP is Found in', fontweight = 'bold' , fontsize = 12, color = 'k')\n",
    "plt.xlabel('Number of Interactors', fontweight = 'bold' , fontsize = 12, color = 'k')\n",
    "plt.ylabel('Number of Baits', fontweight = 'bold' , fontsize = 12, color = 'k')\n",
    "\n",
    "ax.spines['right'].set_visible(False)\n",
    "ax.spines['top'].set_visible(False)\n",
    "\n",
    "ax.tick_params(labelcolor = 'k')\n",
    "#ax.set_yscale(\"log\", nonposy='clip')\n",
    "ax.set_xlim(-2, BioPlex_baits_df.Num_Interactors.max() + 2)\n",
    "\n",
    "fig = plt.gcf()\n",
    "fig.set_size_inches(7.5, 5.25)\n",
    "fig.tight_layout()\n",
    "\n",
    "plt.tick_params(axis='y', which='major', labelsize=12 , labelcolor = 'k')\n",
    "plt.tick_params(axis='x', which='major', labelsize=12 , labelcolor = 'k')\n",
    "\n",
    "#file_name = '/home/rv76/Farhat_Lab/Figures/Final_5/Scraping_rollingDB/Mean_Coverage_Distribution_across_all_isolates.pdf'\n",
    "#plt.savefig(file_name, bbox_inches='tight', dpi = 300 , transparent = True)\n",
    "\n",
    "plt.show()"
   ]
  },
  {
   "cell_type": "markdown",
   "metadata": {},
   "source": [
    "##  [2] Merge *baits* with corresponding *ORF* sequences"
   ]
  },
  {
   "cell_type": "markdown",
   "metadata": {},
   "source": [
    "Load **ORFeome** seqs & annotation"
   ]
  },
  {
   "cell_type": "code",
   "execution_count": 152,
   "metadata": {},
   "outputs": [],
   "source": [
    "ORFeome_df = pd.read_pickle(f'{BioPlex_dir}/data/pickled_files/ORFeome_seqs_df.pkl')"
   ]
  },
  {
   "cell_type": "code",
   "execution_count": 153,
   "metadata": {},
   "outputs": [
    {
     "data": {
      "text/html": [
       "<div>\n",
       "<style scoped>\n",
       "    .dataframe tbody tr th:only-of-type {\n",
       "        vertical-align: middle;\n",
       "    }\n",
       "\n",
       "    .dataframe tbody tr th {\n",
       "        vertical-align: top;\n",
       "    }\n",
       "\n",
       "    .dataframe thead th {\n",
       "        text-align: right;\n",
       "    }\n",
       "</style>\n",
       "<table border=\"1\" class=\"dataframe\">\n",
       "  <thead>\n",
       "    <tr style=\"text-align: right;\">\n",
       "      <th></th>\n",
       "      <th>ORF_ID</th>\n",
       "      <th>ORF_size</th>\n",
       "      <th>template_acc</th>\n",
       "      <th>Entrez_gene_ID</th>\n",
       "      <th>match</th>\n",
       "      <th>SEQ</th>\n",
       "    </tr>\n",
       "  </thead>\n",
       "  <tbody>\n",
       "    <tr>\n",
       "      <th>0</th>\n",
       "      <td>403</td>\n",
       "      <td>159</td>\n",
       "      <td>BC009508.2, BC010491.1</td>\n",
       "      <td>112597</td>\n",
       "      <td>PERFECT_MATCH</td>\n",
       "      <td>(A, T, G, A, C, A, G, A, C, A, C, C, G, A, A, ...</td>\n",
       "    </tr>\n",
       "    <tr>\n",
       "      <th>1</th>\n",
       "      <td>228</td>\n",
       "      <td>135</td>\n",
       "      <td>BC016025.1</td>\n",
       "      <td>9168</td>\n",
       "      <td>PERFECT_MATCH</td>\n",
       "      <td>(A, T, G, G, C, A, G, A, C, A, A, A, C, C, A, ...</td>\n",
       "    </tr>\n",
       "    <tr>\n",
       "      <th>2</th>\n",
       "      <td>52615</td>\n",
       "      <td>156</td>\n",
       "      <td>BC031105.1, BC107049.2</td>\n",
       "      <td>222659</td>\n",
       "      <td>PERFECT_MATCH</td>\n",
       "      <td>(A, T, G, C, A, G, C, T, G, A, G, A, C, A, C, ...</td>\n",
       "    </tr>\n",
       "  </tbody>\n",
       "</table>\n",
       "</div>"
      ],
      "text/plain": [
       "  ORF_ID ORF_size            template_acc  Entrez_gene_ID          match  \\\n",
       "0    403      159  BC009508.2, BC010491.1          112597  PERFECT_MATCH   \n",
       "1    228      135              BC016025.1            9168  PERFECT_MATCH   \n",
       "2  52615      156  BC031105.1, BC107049.2          222659  PERFECT_MATCH   \n",
       "\n",
       "                                                 SEQ  \n",
       "0  (A, T, G, A, C, A, G, A, C, A, C, C, G, A, A, ...  \n",
       "1  (A, T, G, G, C, A, G, A, C, A, A, A, C, C, A, ...  \n",
       "2  (A, T, G, C, A, G, C, T, G, A, G, A, C, A, C, ...  "
      ]
     },
     "execution_count": 153,
     "metadata": {},
     "output_type": "execute_result"
    }
   ],
   "source": [
    "ORFeome_df.head(n=3)"
   ]
  },
  {
   "cell_type": "code",
   "execution_count": 154,
   "metadata": {},
   "outputs": [
    {
     "data": {
      "text/plain": [
       "(12583, 6)"
      ]
     },
     "execution_count": 154,
     "metadata": {},
     "output_type": "execute_result"
    }
   ],
   "source": [
    "np.shape(ORFeome_df)"
   ]
  },
  {
   "cell_type": "markdown",
   "metadata": {},
   "source": [
    "Some Entrez gene IDs map to multiple ORFs"
   ]
  },
  {
   "cell_type": "code",
   "execution_count": 155,
   "metadata": {},
   "outputs": [],
   "source": [
    "num_ORFs_per_gene_ID = pd.Series(Counter(ORFeome_df.Entrez_gene_ID))"
   ]
  },
  {
   "cell_type": "code",
   "execution_count": 156,
   "metadata": {},
   "outputs": [
    {
     "data": {
      "text/plain": [
       "10344"
      ]
     },
     "execution_count": 156,
     "metadata": {},
     "output_type": "execute_result"
    }
   ],
   "source": [
    "sum(num_ORFs_per_gene_ID == 1)"
   ]
  },
  {
   "cell_type": "code",
   "execution_count": 157,
   "metadata": {
    "scrolled": true
   },
   "outputs": [
    {
     "data": {
      "text/plain": [
       "1094"
      ]
     },
     "execution_count": 157,
     "metadata": {},
     "output_type": "execute_result"
    }
   ],
   "source": [
    "sum(num_ORFs_per_gene_ID > 1)"
   ]
  },
  {
   "cell_type": "code",
   "execution_count": 158,
   "metadata": {},
   "outputs": [],
   "source": [
    "ORFeome_seq_Entrez_gene_IDs = set(list(num_ORFs_per_gene_ID.index))"
   ]
  },
  {
   "cell_type": "code",
   "execution_count": 159,
   "metadata": {},
   "outputs": [
    {
     "data": {
      "text/plain": [
       "11438"
      ]
     },
     "execution_count": 159,
     "metadata": {},
     "output_type": "execute_result"
    }
   ],
   "source": [
    "len(ORFeome_seq_Entrez_gene_IDs)"
   ]
  },
  {
   "cell_type": "markdown",
   "metadata": {},
   "source": [
    "**Baits**"
   ]
  },
  {
   "cell_type": "code",
   "execution_count": 160,
   "metadata": {
    "scrolled": true
   },
   "outputs": [
    {
     "data": {
      "text/html": [
       "<div>\n",
       "<style scoped>\n",
       "    .dataframe tbody tr th:only-of-type {\n",
       "        vertical-align: middle;\n",
       "    }\n",
       "\n",
       "    .dataframe tbody tr th {\n",
       "        vertical-align: top;\n",
       "    }\n",
       "\n",
       "    .dataframe thead th {\n",
       "        text-align: right;\n",
       "    }\n",
       "</style>\n",
       "<table border=\"1\" class=\"dataframe\">\n",
       "  <thead>\n",
       "    <tr style=\"text-align: right;\">\n",
       "      <th></th>\n",
       "      <th>Bait_Symbol</th>\n",
       "      <th>Entrez_gene_ID</th>\n",
       "      <th>Num_Interactors</th>\n",
       "    </tr>\n",
       "  </thead>\n",
       "  <tbody>\n",
       "    <tr>\n",
       "      <th>0</th>\n",
       "      <td>A1BG</td>\n",
       "      <td>1</td>\n",
       "      <td>9</td>\n",
       "    </tr>\n",
       "    <tr>\n",
       "      <th>1</th>\n",
       "      <td>NAT2</td>\n",
       "      <td>10</td>\n",
       "      <td>5</td>\n",
       "    </tr>\n",
       "    <tr>\n",
       "      <th>2</th>\n",
       "      <td>ADA</td>\n",
       "      <td>100</td>\n",
       "      <td>2</td>\n",
       "    </tr>\n",
       "  </tbody>\n",
       "</table>\n",
       "</div>"
      ],
      "text/plain": [
       "  Bait_Symbol  Entrez_gene_ID  Num_Interactors\n",
       "0        A1BG               1                9\n",
       "1        NAT2              10                5\n",
       "2         ADA             100                2"
      ]
     },
     "execution_count": 160,
     "metadata": {},
     "output_type": "execute_result"
    }
   ],
   "source": [
    "BioPlex_baits_df.head(n=3)"
   ]
  },
  {
   "cell_type": "code",
   "execution_count": 161,
   "metadata": {},
   "outputs": [
    {
     "data": {
      "text/plain": [
       "(10128, 3)"
      ]
     },
     "execution_count": 161,
     "metadata": {},
     "output_type": "execute_result"
    }
   ],
   "source": [
    "np.shape(BioPlex_baits_df)"
   ]
  },
  {
   "cell_type": "code",
   "execution_count": 162,
   "metadata": {},
   "outputs": [],
   "source": [
    "BioPlex_bait_Entrez_gene_IDs = set(list(BioPlex_baits_df.Entrez_gene_ID))"
   ]
  },
  {
   "cell_type": "code",
   "execution_count": 163,
   "metadata": {},
   "outputs": [
    {
     "data": {
      "text/plain": [
       "10128"
      ]
     },
     "execution_count": 163,
     "metadata": {},
     "output_type": "execute_result"
    }
   ],
   "source": [
    "len(BioPlex_bait_Entrez_gene_IDs)"
   ]
  },
  {
   "cell_type": "markdown",
   "metadata": {},
   "source": [
    "#### PROBLEM - several *baits* do not have a corresponding *ORF* when mapped using Entrez gene IDs"
   ]
  },
  {
   "cell_type": "code",
   "execution_count": 165,
   "metadata": {},
   "outputs": [
    {
     "data": {
      "text/plain": [
       "1403"
      ]
     },
     "execution_count": 165,
     "metadata": {},
     "output_type": "execute_result"
    }
   ],
   "source": [
    "len(BioPlex_bait_Entrez_gene_IDs - ORFeome_seq_Entrez_gene_IDs)"
   ]
  },
  {
   "cell_type": "code",
   "execution_count": 168,
   "metadata": {},
   "outputs": [
    {
     "data": {
      "text/plain": [
       "8725"
      ]
     },
     "execution_count": 168,
     "metadata": {},
     "output_type": "execute_result"
    }
   ],
   "source": [
    "len(ORFeome_seq_Entrez_gene_IDs.intersection(BioPlex_bait_Entrez_gene_IDs))"
   ]
  },
  {
   "cell_type": "code",
   "execution_count": 166,
   "metadata": {},
   "outputs": [
    {
     "data": {
      "text/plain": [
       "2713"
      ]
     },
     "execution_count": 166,
     "metadata": {},
     "output_type": "execute_result"
    }
   ],
   "source": [
    "len(ORFeome_seq_Entrez_gene_IDs - BioPlex_bait_Entrez_gene_IDs)"
   ]
  },
  {
   "cell_type": "markdown",
   "metadata": {},
   "source": [
    "#### Left merge the *bait* Entrez gene IDs with the corresponding *ORF seq* Entrez gene IDs"
   ]
  },
  {
   "cell_type": "code",
   "execution_count": 169,
   "metadata": {},
   "outputs": [],
   "source": [
    "BioPlex_baits_df = BioPlex_baits_df.merge(ORFeome_df, how = 'left', on = 'Entrez_gene_ID')"
   ]
  },
  {
   "cell_type": "code",
   "execution_count": 170,
   "metadata": {},
   "outputs": [
    {
     "data": {
      "text/html": [
       "<div>\n",
       "<style scoped>\n",
       "    .dataframe tbody tr th:only-of-type {\n",
       "        vertical-align: middle;\n",
       "    }\n",
       "\n",
       "    .dataframe tbody tr th {\n",
       "        vertical-align: top;\n",
       "    }\n",
       "\n",
       "    .dataframe thead th {\n",
       "        text-align: right;\n",
       "    }\n",
       "</style>\n",
       "<table border=\"1\" class=\"dataframe\">\n",
       "  <thead>\n",
       "    <tr style=\"text-align: right;\">\n",
       "      <th></th>\n",
       "      <th>Bait_Symbol</th>\n",
       "      <th>Entrez_gene_ID</th>\n",
       "      <th>Num_Interactors</th>\n",
       "      <th>ORF_ID</th>\n",
       "      <th>ORF_size</th>\n",
       "      <th>template_acc</th>\n",
       "      <th>match</th>\n",
       "      <th>SEQ</th>\n",
       "    </tr>\n",
       "  </thead>\n",
       "  <tbody>\n",
       "    <tr>\n",
       "      <th>0</th>\n",
       "      <td>A1BG</td>\n",
       "      <td>1</td>\n",
       "      <td>9</td>\n",
       "      <td>10134</td>\n",
       "      <td>1122</td>\n",
       "      <td>BC035719.1</td>\n",
       "      <td>PERFECT_MATCH</td>\n",
       "      <td>(A, T, G, G, C, G, C, C, A, G, T, G, T, C, C, ...</td>\n",
       "    </tr>\n",
       "    <tr>\n",
       "      <th>1</th>\n",
       "      <td>NAT2</td>\n",
       "      <td>10</td>\n",
       "      <td>5</td>\n",
       "      <td>7722</td>\n",
       "      <td>873</td>\n",
       "      <td>BC015878.1</td>\n",
       "      <td>PERFECT_MATCH</td>\n",
       "      <td>(A, T, G, G, A, C, A, T, T, G, A, A, G, C, A, ...</td>\n",
       "    </tr>\n",
       "    <tr>\n",
       "      <th>2</th>\n",
       "      <td>ADA</td>\n",
       "      <td>100</td>\n",
       "      <td>2</td>\n",
       "      <td>4768</td>\n",
       "      <td>1092</td>\n",
       "      <td>BC007678.2, BC040226.1</td>\n",
       "      <td>PERFECT_MATCH</td>\n",
       "      <td>(A, T, G, G, C, C, C, A, G, A, C, G, C, C, C, ...</td>\n",
       "    </tr>\n",
       "    <tr>\n",
       "      <th>3</th>\n",
       "      <td>AKT3</td>\n",
       "      <td>10000</td>\n",
       "      <td>13</td>\n",
       "      <td>56787</td>\n",
       "      <td>1398</td>\n",
       "      <td>BC121154.2</td>\n",
       "      <td>PERFECT_MATCH</td>\n",
       "      <td>(A, T, G, A, G, C, G, A, T, G, T, T, A, C, C, ...</td>\n",
       "    </tr>\n",
       "    <tr>\n",
       "      <th>4</th>\n",
       "      <td>NR2E3</td>\n",
       "      <td>10002</td>\n",
       "      <td>2</td>\n",
       "      <td>11340</td>\n",
       "      <td>969</td>\n",
       "      <td>BC041421.1</td>\n",
       "      <td>PERFECT_MATCH</td>\n",
       "      <td>(A, T, G, T, G, C, C, C, C, G, T, G, G, A, C, ...</td>\n",
       "    </tr>\n",
       "    <tr>\n",
       "      <th>5</th>\n",
       "      <td>NAALADL1</td>\n",
       "      <td>10004</td>\n",
       "      <td>3</td>\n",
       "      <td>NaN</td>\n",
       "      <td>NaN</td>\n",
       "      <td>NaN</td>\n",
       "      <td>NaN</td>\n",
       "      <td>NaN</td>\n",
       "    </tr>\n",
       "    <tr>\n",
       "      <th>6</th>\n",
       "      <td>GUSBP9</td>\n",
       "      <td>100049076</td>\n",
       "      <td>0</td>\n",
       "      <td>56159</td>\n",
       "      <td>273</td>\n",
       "      <td>BC104473.1</td>\n",
       "      <td>PERFECT_MATCH</td>\n",
       "      <td>(A, T, G, G, T, G, A, T, T, G, C, T, C, A, C, ...</td>\n",
       "    </tr>\n",
       "    <tr>\n",
       "      <th>7</th>\n",
       "      <td>ACOT8</td>\n",
       "      <td>10005</td>\n",
       "      <td>4</td>\n",
       "      <td>53919</td>\n",
       "      <td>960</td>\n",
       "      <td>BC117155.1, BC117157.1</td>\n",
       "      <td>PERFECT_MATCH</td>\n",
       "      <td>(A, T, G, T, C, G, T, C, C, C, C, G, C, A, G, ...</td>\n",
       "    </tr>\n",
       "    <tr>\n",
       "      <th>8</th>\n",
       "      <td>GNPDA1</td>\n",
       "      <td>10007</td>\n",
       "      <td>6</td>\n",
       "      <td>626</td>\n",
       "      <td>870</td>\n",
       "      <td>BC012853.2, BC022322.1</td>\n",
       "      <td>PERFECT_MATCH</td>\n",
       "      <td>(A, T, G, A, A, G, C, T, C, A, T, C, A, T, C, ...</td>\n",
       "    </tr>\n",
       "    <tr>\n",
       "      <th>9</th>\n",
       "      <td>GNPDA1</td>\n",
       "      <td>10007</td>\n",
       "      <td>6</td>\n",
       "      <td>12810</td>\n",
       "      <td>870</td>\n",
       "      <td>BC020769.1</td>\n",
       "      <td>PERFECT_MATCH</td>\n",
       "      <td>(A, T, G, A, A, G, C, T, C, A, T, C, A, T, C, ...</td>\n",
       "    </tr>\n",
       "  </tbody>\n",
       "</table>\n",
       "</div>"
      ],
      "text/plain": [
       "  Bait_Symbol  Entrez_gene_ID  Num_Interactors ORF_ID ORF_size  \\\n",
       "0        A1BG               1                9  10134     1122   \n",
       "1        NAT2              10                5   7722      873   \n",
       "2         ADA             100                2   4768     1092   \n",
       "3        AKT3           10000               13  56787     1398   \n",
       "4       NR2E3           10002                2  11340      969   \n",
       "5    NAALADL1           10004                3    NaN      NaN   \n",
       "6      GUSBP9       100049076                0  56159      273   \n",
       "7       ACOT8           10005                4  53919      960   \n",
       "8      GNPDA1           10007                6    626      870   \n",
       "9      GNPDA1           10007                6  12810      870   \n",
       "\n",
       "             template_acc          match  \\\n",
       "0              BC035719.1  PERFECT_MATCH   \n",
       "1              BC015878.1  PERFECT_MATCH   \n",
       "2  BC007678.2, BC040226.1  PERFECT_MATCH   \n",
       "3              BC121154.2  PERFECT_MATCH   \n",
       "4              BC041421.1  PERFECT_MATCH   \n",
       "5                     NaN            NaN   \n",
       "6              BC104473.1  PERFECT_MATCH   \n",
       "7  BC117155.1, BC117157.1  PERFECT_MATCH   \n",
       "8  BC012853.2, BC022322.1  PERFECT_MATCH   \n",
       "9              BC020769.1  PERFECT_MATCH   \n",
       "\n",
       "                                                 SEQ  \n",
       "0  (A, T, G, G, C, G, C, C, A, G, T, G, T, C, C, ...  \n",
       "1  (A, T, G, G, A, C, A, T, T, G, A, A, G, C, A, ...  \n",
       "2  (A, T, G, G, C, C, C, A, G, A, C, G, C, C, C, ...  \n",
       "3  (A, T, G, A, G, C, G, A, T, G, T, T, A, C, C, ...  \n",
       "4  (A, T, G, T, G, C, C, C, C, G, T, G, G, A, C, ...  \n",
       "5                                                NaN  \n",
       "6  (A, T, G, G, T, G, A, T, T, G, C, T, C, A, C, ...  \n",
       "7  (A, T, G, T, C, G, T, C, C, C, C, G, C, A, G, ...  \n",
       "8  (A, T, G, A, A, G, C, T, C, A, T, C, A, T, C, ...  \n",
       "9  (A, T, G, A, A, G, C, T, C, A, T, C, A, T, C, ...  "
      ]
     },
     "execution_count": 170,
     "metadata": {},
     "output_type": "execute_result"
    }
   ],
   "source": [
    "BioPlex_baits_df.head(n=10)"
   ]
  },
  {
   "cell_type": "code",
   "execution_count": 171,
   "metadata": {},
   "outputs": [
    {
     "data": {
      "text/plain": [
       "(11189, 8)"
      ]
     },
     "execution_count": 171,
     "metadata": {},
     "output_type": "execute_result"
    }
   ],
   "source": [
    "np.shape(BioPlex_baits_df)"
   ]
  },
  {
   "cell_type": "markdown",
   "metadata": {},
   "source": [
    "### [2.1] Baits that *do not* map to any ORFs"
   ]
  },
  {
   "cell_type": "code",
   "execution_count": 172,
   "metadata": {},
   "outputs": [],
   "source": [
    "BioPlex_baits_no_ORFs_dfs = BioPlex_baits_df[BioPlex_baits_df.ORF_ID.isnull()]"
   ]
  },
  {
   "cell_type": "code",
   "execution_count": 173,
   "metadata": {},
   "outputs": [
    {
     "data": {
      "text/html": [
       "<div>\n",
       "<style scoped>\n",
       "    .dataframe tbody tr th:only-of-type {\n",
       "        vertical-align: middle;\n",
       "    }\n",
       "\n",
       "    .dataframe tbody tr th {\n",
       "        vertical-align: top;\n",
       "    }\n",
       "\n",
       "    .dataframe thead th {\n",
       "        text-align: right;\n",
       "    }\n",
       "</style>\n",
       "<table border=\"1\" class=\"dataframe\">\n",
       "  <thead>\n",
       "    <tr style=\"text-align: right;\">\n",
       "      <th></th>\n",
       "      <th>Bait_Symbol</th>\n",
       "      <th>Entrez_gene_ID</th>\n",
       "      <th>Num_Interactors</th>\n",
       "      <th>ORF_ID</th>\n",
       "      <th>ORF_size</th>\n",
       "      <th>template_acc</th>\n",
       "      <th>match</th>\n",
       "      <th>SEQ</th>\n",
       "    </tr>\n",
       "  </thead>\n",
       "  <tbody>\n",
       "    <tr>\n",
       "      <th>5</th>\n",
       "      <td>NAALADL1</td>\n",
       "      <td>10004</td>\n",
       "      <td>3</td>\n",
       "      <td>NaN</td>\n",
       "      <td>NaN</td>\n",
       "      <td>NaN</td>\n",
       "      <td>NaN</td>\n",
       "      <td>NaN</td>\n",
       "    </tr>\n",
       "    <tr>\n",
       "      <th>14</th>\n",
       "      <td>GAGE8</td>\n",
       "      <td>100101629</td>\n",
       "      <td>10</td>\n",
       "      <td>NaN</td>\n",
       "      <td>NaN</td>\n",
       "      <td>NaN</td>\n",
       "      <td>NaN</td>\n",
       "      <td>NaN</td>\n",
       "    </tr>\n",
       "    <tr>\n",
       "      <th>15</th>\n",
       "      <td>SRA1</td>\n",
       "      <td>10011</td>\n",
       "      <td>7</td>\n",
       "      <td>NaN</td>\n",
       "      <td>NaN</td>\n",
       "      <td>NaN</td>\n",
       "      <td>NaN</td>\n",
       "      <td>NaN</td>\n",
       "    </tr>\n",
       "    <tr>\n",
       "      <th>28</th>\n",
       "      <td>HCN4</td>\n",
       "      <td>10021</td>\n",
       "      <td>4</td>\n",
       "      <td>NaN</td>\n",
       "      <td>NaN</td>\n",
       "      <td>NaN</td>\n",
       "      <td>NaN</td>\n",
       "      <td>NaN</td>\n",
       "    </tr>\n",
       "    <tr>\n",
       "      <th>34</th>\n",
       "      <td>WASH1</td>\n",
       "      <td>100287171</td>\n",
       "      <td>12</td>\n",
       "      <td>NaN</td>\n",
       "      <td>NaN</td>\n",
       "      <td>NaN</td>\n",
       "      <td>NaN</td>\n",
       "      <td>NaN</td>\n",
       "    </tr>\n",
       "  </tbody>\n",
       "</table>\n",
       "</div>"
      ],
      "text/plain": [
       "   Bait_Symbol  Entrez_gene_ID  Num_Interactors ORF_ID ORF_size template_acc  \\\n",
       "5     NAALADL1           10004                3    NaN      NaN          NaN   \n",
       "14       GAGE8       100101629               10    NaN      NaN          NaN   \n",
       "15        SRA1           10011                7    NaN      NaN          NaN   \n",
       "28        HCN4           10021                4    NaN      NaN          NaN   \n",
       "34       WASH1       100287171               12    NaN      NaN          NaN   \n",
       "\n",
       "   match  SEQ  \n",
       "5    NaN  NaN  \n",
       "14   NaN  NaN  \n",
       "15   NaN  NaN  \n",
       "28   NaN  NaN  \n",
       "34   NaN  NaN  "
      ]
     },
     "execution_count": 173,
     "metadata": {},
     "output_type": "execute_result"
    }
   ],
   "source": [
    "BioPlex_baits_no_ORFs_dfs.head()"
   ]
  },
  {
   "cell_type": "code",
   "execution_count": 174,
   "metadata": {},
   "outputs": [
    {
     "data": {
      "text/plain": [
       "(1403, 8)"
      ]
     },
     "execution_count": 174,
     "metadata": {},
     "output_type": "execute_result"
    }
   ],
   "source": [
    "np.shape(BioPlex_baits_no_ORFs_dfs)"
   ]
  },
  {
   "cell_type": "markdown",
   "metadata": {},
   "source": [
    "**drop** baits that have no corresponding ORFs"
   ]
  },
  {
   "cell_type": "code",
   "execution_count": 175,
   "metadata": {},
   "outputs": [],
   "source": [
    "bait_has_ORF_filter = [not no_ORF_for_bait for no_ORF_for_bait in BioPlex_baits_df.ORF_ID.isnull()]\n",
    "BioPlex_baits_df = BioPlex_baits_df[bait_has_ORF_filter]\n",
    "BioPlex_baits_df.reset_index(inplace = True, drop = True)"
   ]
  },
  {
   "cell_type": "code",
   "execution_count": 176,
   "metadata": {},
   "outputs": [
    {
     "data": {
      "text/html": [
       "<div>\n",
       "<style scoped>\n",
       "    .dataframe tbody tr th:only-of-type {\n",
       "        vertical-align: middle;\n",
       "    }\n",
       "\n",
       "    .dataframe tbody tr th {\n",
       "        vertical-align: top;\n",
       "    }\n",
       "\n",
       "    .dataframe thead th {\n",
       "        text-align: right;\n",
       "    }\n",
       "</style>\n",
       "<table border=\"1\" class=\"dataframe\">\n",
       "  <thead>\n",
       "    <tr style=\"text-align: right;\">\n",
       "      <th></th>\n",
       "      <th>Bait_Symbol</th>\n",
       "      <th>Entrez_gene_ID</th>\n",
       "      <th>Num_Interactors</th>\n",
       "      <th>ORF_ID</th>\n",
       "      <th>ORF_size</th>\n",
       "      <th>template_acc</th>\n",
       "      <th>match</th>\n",
       "      <th>SEQ</th>\n",
       "    </tr>\n",
       "  </thead>\n",
       "  <tbody>\n",
       "    <tr>\n",
       "      <th>0</th>\n",
       "      <td>A1BG</td>\n",
       "      <td>1</td>\n",
       "      <td>9</td>\n",
       "      <td>10134</td>\n",
       "      <td>1122</td>\n",
       "      <td>BC035719.1</td>\n",
       "      <td>PERFECT_MATCH</td>\n",
       "      <td>(A, T, G, G, C, G, C, C, A, G, T, G, T, C, C, ...</td>\n",
       "    </tr>\n",
       "    <tr>\n",
       "      <th>1</th>\n",
       "      <td>NAT2</td>\n",
       "      <td>10</td>\n",
       "      <td>5</td>\n",
       "      <td>7722</td>\n",
       "      <td>873</td>\n",
       "      <td>BC015878.1</td>\n",
       "      <td>PERFECT_MATCH</td>\n",
       "      <td>(A, T, G, G, A, C, A, T, T, G, A, A, G, C, A, ...</td>\n",
       "    </tr>\n",
       "    <tr>\n",
       "      <th>2</th>\n",
       "      <td>ADA</td>\n",
       "      <td>100</td>\n",
       "      <td>2</td>\n",
       "      <td>4768</td>\n",
       "      <td>1092</td>\n",
       "      <td>BC007678.2, BC040226.1</td>\n",
       "      <td>PERFECT_MATCH</td>\n",
       "      <td>(A, T, G, G, C, C, C, A, G, A, C, G, C, C, C, ...</td>\n",
       "    </tr>\n",
       "    <tr>\n",
       "      <th>3</th>\n",
       "      <td>AKT3</td>\n",
       "      <td>10000</td>\n",
       "      <td>13</td>\n",
       "      <td>56787</td>\n",
       "      <td>1398</td>\n",
       "      <td>BC121154.2</td>\n",
       "      <td>PERFECT_MATCH</td>\n",
       "      <td>(A, T, G, A, G, C, G, A, T, G, T, T, A, C, C, ...</td>\n",
       "    </tr>\n",
       "    <tr>\n",
       "      <th>4</th>\n",
       "      <td>NR2E3</td>\n",
       "      <td>10002</td>\n",
       "      <td>2</td>\n",
       "      <td>11340</td>\n",
       "      <td>969</td>\n",
       "      <td>BC041421.1</td>\n",
       "      <td>PERFECT_MATCH</td>\n",
       "      <td>(A, T, G, T, G, C, C, C, C, G, T, G, G, A, C, ...</td>\n",
       "    </tr>\n",
       "  </tbody>\n",
       "</table>\n",
       "</div>"
      ],
      "text/plain": [
       "  Bait_Symbol  Entrez_gene_ID  Num_Interactors ORF_ID ORF_size  \\\n",
       "0        A1BG               1                9  10134     1122   \n",
       "1        NAT2              10                5   7722      873   \n",
       "2         ADA             100                2   4768     1092   \n",
       "3        AKT3           10000               13  56787     1398   \n",
       "4       NR2E3           10002                2  11340      969   \n",
       "\n",
       "             template_acc          match  \\\n",
       "0              BC035719.1  PERFECT_MATCH   \n",
       "1              BC015878.1  PERFECT_MATCH   \n",
       "2  BC007678.2, BC040226.1  PERFECT_MATCH   \n",
       "3              BC121154.2  PERFECT_MATCH   \n",
       "4              BC041421.1  PERFECT_MATCH   \n",
       "\n",
       "                                                 SEQ  \n",
       "0  (A, T, G, G, C, G, C, C, A, G, T, G, T, C, C, ...  \n",
       "1  (A, T, G, G, A, C, A, T, T, G, A, A, G, C, A, ...  \n",
       "2  (A, T, G, G, C, C, C, A, G, A, C, G, C, C, C, ...  \n",
       "3  (A, T, G, A, G, C, G, A, T, G, T, T, A, C, C, ...  \n",
       "4  (A, T, G, T, G, C, C, C, C, G, T, G, G, A, C, ...  "
      ]
     },
     "execution_count": 176,
     "metadata": {},
     "output_type": "execute_result"
    }
   ],
   "source": [
    "BioPlex_baits_df.head()"
   ]
  },
  {
   "cell_type": "code",
   "execution_count": 177,
   "metadata": {},
   "outputs": [
    {
     "data": {
      "text/plain": [
       "(9786, 8)"
      ]
     },
     "execution_count": 177,
     "metadata": {},
     "output_type": "execute_result"
    }
   ],
   "source": [
    "np.shape(BioPlex_baits_df)"
   ]
  },
  {
   "cell_type": "markdown",
   "metadata": {},
   "source": [
    "### [2.2] Baits that map to multiple ORFs vs. Baits that map to only one ORF\n",
    "- will appear as multiple Entrez gene ID row entries **or** appear as a single Entrez gene ID row entries"
   ]
  },
  {
   "cell_type": "code",
   "execution_count": 178,
   "metadata": {},
   "outputs": [],
   "source": [
    "num_ORFs_per_bait = pd.Series(Counter(BioPlex_baits_df.Entrez_gene_ID))\n",
    "num_ORFs_per_bait.sort_values(ascending = False, inplace = True)"
   ]
  },
  {
   "cell_type": "code",
   "execution_count": 179,
   "metadata": {},
   "outputs": [
    {
     "data": {
      "text/plain": [
       "4869     3\n",
       "55092    3\n",
       "dtype: int64"
      ]
     },
     "execution_count": 179,
     "metadata": {},
     "output_type": "execute_result"
    }
   ],
   "source": [
    "num_ORFs_per_bait.head(n=2)"
   ]
  },
  {
   "cell_type": "code",
   "execution_count": 180,
   "metadata": {},
   "outputs": [
    {
     "data": {
      "text/plain": [
       "283643    1\n",
       "9993      1\n",
       "dtype: int64"
      ]
     },
     "execution_count": 180,
     "metadata": {},
     "output_type": "execute_result"
    }
   ],
   "source": [
    "num_ORFs_per_bait.tail(n=2)"
   ]
  },
  {
   "cell_type": "code",
   "execution_count": 181,
   "metadata": {},
   "outputs": [
    {
     "data": {
      "text/plain": [
       "(8725,)"
      ]
     },
     "execution_count": 181,
     "metadata": {},
     "output_type": "execute_result"
    }
   ],
   "source": [
    "np.shape(num_ORFs_per_bait) #number of unique Entrez gene IDs represented"
   ]
  },
  {
   "cell_type": "code",
   "execution_count": 182,
   "metadata": {},
   "outputs": [
    {
     "data": {
      "text/plain": [
       "9786"
      ]
     },
     "execution_count": 182,
     "metadata": {},
     "output_type": "execute_result"
    }
   ],
   "source": [
    "num_ORFs_per_bait.sum()"
   ]
  },
  {
   "cell_type": "markdown",
   "metadata": {},
   "source": [
    "1,012 baits (Entrez gene IDs) map to multiple ORFs"
   ]
  },
  {
   "cell_type": "code",
   "execution_count": 183,
   "metadata": {
    "scrolled": true
   },
   "outputs": [
    {
     "data": {
      "text/plain": [
       "1012"
      ]
     },
     "execution_count": 183,
     "metadata": {},
     "output_type": "execute_result"
    }
   ],
   "source": [
    "sum(num_ORFs_per_bait > 1)"
   ]
  },
  {
   "cell_type": "code",
   "execution_count": 188,
   "metadata": {},
   "outputs": [],
   "source": [
    "bait_Entrez_gene_IDs_multiple_ORFs = set(num_ORFs_per_bait[num_ORFs_per_bait > 1].index)\n",
    "bait_Entrez_gene_IDs_multiple_ORFs_filter = [(bait_Entrez_ID in bait_Entrez_gene_IDs_multiple_ORFs) for bait_Entrez_ID in BioPlex_baits_df.Entrez_gene_ID]"
   ]
  },
  {
   "cell_type": "code",
   "execution_count": 190,
   "metadata": {},
   "outputs": [
    {
     "data": {
      "text/html": [
       "<div>\n",
       "<style scoped>\n",
       "    .dataframe tbody tr th:only-of-type {\n",
       "        vertical-align: middle;\n",
       "    }\n",
       "\n",
       "    .dataframe tbody tr th {\n",
       "        vertical-align: top;\n",
       "    }\n",
       "\n",
       "    .dataframe thead th {\n",
       "        text-align: right;\n",
       "    }\n",
       "</style>\n",
       "<table border=\"1\" class=\"dataframe\">\n",
       "  <thead>\n",
       "    <tr style=\"text-align: right;\">\n",
       "      <th></th>\n",
       "      <th>Bait_Symbol</th>\n",
       "      <th>Entrez_gene_ID</th>\n",
       "      <th>Num_Interactors</th>\n",
       "      <th>ORF_ID</th>\n",
       "      <th>ORF_size</th>\n",
       "      <th>template_acc</th>\n",
       "      <th>match</th>\n",
       "      <th>SEQ</th>\n",
       "    </tr>\n",
       "  </thead>\n",
       "  <tbody>\n",
       "    <tr>\n",
       "      <th>7</th>\n",
       "      <td>GNPDA1</td>\n",
       "      <td>10007</td>\n",
       "      <td>6</td>\n",
       "      <td>626</td>\n",
       "      <td>870</td>\n",
       "      <td>BC012853.2, BC022322.1</td>\n",
       "      <td>PERFECT_MATCH</td>\n",
       "      <td>(A, T, G, A, A, G, C, T, C, A, T, C, A, T, C, ...</td>\n",
       "    </tr>\n",
       "    <tr>\n",
       "      <th>8</th>\n",
       "      <td>GNPDA1</td>\n",
       "      <td>10007</td>\n",
       "      <td>6</td>\n",
       "      <td>12810</td>\n",
       "      <td>870</td>\n",
       "      <td>BC020769.1</td>\n",
       "      <td>PERFECT_MATCH</td>\n",
       "      <td>(A, T, G, A, A, G, C, T, C, A, T, C, A, T, C, ...</td>\n",
       "    </tr>\n",
       "    <tr>\n",
       "      <th>10</th>\n",
       "      <td>TANK</td>\n",
       "      <td>10010</td>\n",
       "      <td>13</td>\n",
       "      <td>8635</td>\n",
       "      <td>360</td>\n",
       "      <td>BC003388.1</td>\n",
       "      <td>PERFECT_MATCH</td>\n",
       "      <td>(A, T, G, G, A, T, A, A, A, A, A, C, A, T, T, ...</td>\n",
       "    </tr>\n",
       "    <tr>\n",
       "      <th>11</th>\n",
       "      <td>TANK</td>\n",
       "      <td>10010</td>\n",
       "      <td>13</td>\n",
       "      <td>14482</td>\n",
       "      <td>1278</td>\n",
       "      <td>BC067779.1</td>\n",
       "      <td>PERFECT_MATCH</td>\n",
       "      <td>(A, T, G, G, A, T, A, A, A, A, A, C, A, T, T, ...</td>\n",
       "    </tr>\n",
       "    <tr>\n",
       "      <th>15</th>\n",
       "      <td>HDAC6</td>\n",
       "      <td>10013</td>\n",
       "      <td>6</td>\n",
       "      <td>8810</td>\n",
       "      <td>441</td>\n",
       "      <td>BC005872.1, BC011498.1</td>\n",
       "      <td>PERFECT_MATCH</td>\n",
       "      <td>(A, T, G, A, C, C, T, C, A, A, C, C, G, G, C, ...</td>\n",
       "    </tr>\n",
       "    <tr>\n",
       "      <th>16</th>\n",
       "      <td>HDAC6</td>\n",
       "      <td>10013</td>\n",
       "      <td>6</td>\n",
       "      <td>2397</td>\n",
       "      <td>3192</td>\n",
       "      <td>BC013737.1</td>\n",
       "      <td>PERFECT_MATCH</td>\n",
       "      <td>(A, T, G, G, A, A, A, C, A, A, C, C, C, A, G, ...</td>\n",
       "    </tr>\n",
       "  </tbody>\n",
       "</table>\n",
       "</div>"
      ],
      "text/plain": [
       "   Bait_Symbol  Entrez_gene_ID  Num_Interactors ORF_ID ORF_size  \\\n",
       "7       GNPDA1           10007                6    626      870   \n",
       "8       GNPDA1           10007                6  12810      870   \n",
       "10        TANK           10010               13   8635      360   \n",
       "11        TANK           10010               13  14482     1278   \n",
       "15       HDAC6           10013                6   8810      441   \n",
       "16       HDAC6           10013                6   2397     3192   \n",
       "\n",
       "              template_acc          match  \\\n",
       "7   BC012853.2, BC022322.1  PERFECT_MATCH   \n",
       "8               BC020769.1  PERFECT_MATCH   \n",
       "10              BC003388.1  PERFECT_MATCH   \n",
       "11              BC067779.1  PERFECT_MATCH   \n",
       "15  BC005872.1, BC011498.1  PERFECT_MATCH   \n",
       "16              BC013737.1  PERFECT_MATCH   \n",
       "\n",
       "                                                  SEQ  \n",
       "7   (A, T, G, A, A, G, C, T, C, A, T, C, A, T, C, ...  \n",
       "8   (A, T, G, A, A, G, C, T, C, A, T, C, A, T, C, ...  \n",
       "10  (A, T, G, G, A, T, A, A, A, A, A, C, A, T, T, ...  \n",
       "11  (A, T, G, G, A, T, A, A, A, A, A, C, A, T, T, ...  \n",
       "15  (A, T, G, A, C, C, T, C, A, A, C, C, G, G, C, ...  \n",
       "16  (A, T, G, G, A, A, A, C, A, A, C, C, C, A, G, ...  "
      ]
     },
     "execution_count": 190,
     "metadata": {},
     "output_type": "execute_result"
    }
   ],
   "source": [
    "BioPlex_baits_df[bait_Entrez_gene_IDs_multiple_ORFs_filter].head(n = 6)"
   ]
  },
  {
   "cell_type": "markdown",
   "metadata": {},
   "source": [
    "7,713 baits (Entrez gene IDs) map to a single ORF"
   ]
  },
  {
   "cell_type": "code",
   "execution_count": 184,
   "metadata": {
    "scrolled": true
   },
   "outputs": [
    {
     "data": {
      "text/plain": [
       "7713"
      ]
     },
     "execution_count": 184,
     "metadata": {},
     "output_type": "execute_result"
    }
   ],
   "source": [
    "sum(num_ORFs_per_bait == 1)"
   ]
  },
  {
   "cell_type": "code",
   "execution_count": 191,
   "metadata": {},
   "outputs": [],
   "source": [
    "bait_Entrez_gene_IDs_one_ORF = set(num_ORFs_per_bait[num_ORFs_per_bait == 1].index)\n",
    "bait_Entrez_gene_IDs_one_ORF_filter = [(bait_Entrez_ID in bait_Entrez_gene_IDs_one_ORF) for bait_Entrez_ID in BioPlex_baits_df.Entrez_gene_ID]"
   ]
  },
  {
   "cell_type": "code",
   "execution_count": 192,
   "metadata": {},
   "outputs": [
    {
     "data": {
      "text/html": [
       "<div>\n",
       "<style scoped>\n",
       "    .dataframe tbody tr th:only-of-type {\n",
       "        vertical-align: middle;\n",
       "    }\n",
       "\n",
       "    .dataframe tbody tr th {\n",
       "        vertical-align: top;\n",
       "    }\n",
       "\n",
       "    .dataframe thead th {\n",
       "        text-align: right;\n",
       "    }\n",
       "</style>\n",
       "<table border=\"1\" class=\"dataframe\">\n",
       "  <thead>\n",
       "    <tr style=\"text-align: right;\">\n",
       "      <th></th>\n",
       "      <th>Bait_Symbol</th>\n",
       "      <th>Entrez_gene_ID</th>\n",
       "      <th>Num_Interactors</th>\n",
       "      <th>ORF_ID</th>\n",
       "      <th>ORF_size</th>\n",
       "      <th>template_acc</th>\n",
       "      <th>match</th>\n",
       "      <th>SEQ</th>\n",
       "    </tr>\n",
       "  </thead>\n",
       "  <tbody>\n",
       "    <tr>\n",
       "      <th>0</th>\n",
       "      <td>A1BG</td>\n",
       "      <td>1</td>\n",
       "      <td>9</td>\n",
       "      <td>10134</td>\n",
       "      <td>1122</td>\n",
       "      <td>BC035719.1</td>\n",
       "      <td>PERFECT_MATCH</td>\n",
       "      <td>(A, T, G, G, C, G, C, C, A, G, T, G, T, C, C, ...</td>\n",
       "    </tr>\n",
       "    <tr>\n",
       "      <th>1</th>\n",
       "      <td>NAT2</td>\n",
       "      <td>10</td>\n",
       "      <td>5</td>\n",
       "      <td>7722</td>\n",
       "      <td>873</td>\n",
       "      <td>BC015878.1</td>\n",
       "      <td>PERFECT_MATCH</td>\n",
       "      <td>(A, T, G, G, A, C, A, T, T, G, A, A, G, C, A, ...</td>\n",
       "    </tr>\n",
       "    <tr>\n",
       "      <th>2</th>\n",
       "      <td>ADA</td>\n",
       "      <td>100</td>\n",
       "      <td>2</td>\n",
       "      <td>4768</td>\n",
       "      <td>1092</td>\n",
       "      <td>BC007678.2, BC040226.1</td>\n",
       "      <td>PERFECT_MATCH</td>\n",
       "      <td>(A, T, G, G, C, C, C, A, G, A, C, G, C, C, C, ...</td>\n",
       "    </tr>\n",
       "    <tr>\n",
       "      <th>3</th>\n",
       "      <td>AKT3</td>\n",
       "      <td>10000</td>\n",
       "      <td>13</td>\n",
       "      <td>56787</td>\n",
       "      <td>1398</td>\n",
       "      <td>BC121154.2</td>\n",
       "      <td>PERFECT_MATCH</td>\n",
       "      <td>(A, T, G, A, G, C, G, A, T, G, T, T, A, C, C, ...</td>\n",
       "    </tr>\n",
       "    <tr>\n",
       "      <th>4</th>\n",
       "      <td>NR2E3</td>\n",
       "      <td>10002</td>\n",
       "      <td>2</td>\n",
       "      <td>11340</td>\n",
       "      <td>969</td>\n",
       "      <td>BC041421.1</td>\n",
       "      <td>PERFECT_MATCH</td>\n",
       "      <td>(A, T, G, T, G, C, C, C, C, G, T, G, G, A, C, ...</td>\n",
       "    </tr>\n",
       "    <tr>\n",
       "      <th>5</th>\n",
       "      <td>GUSBP9</td>\n",
       "      <td>100049076</td>\n",
       "      <td>0</td>\n",
       "      <td>56159</td>\n",
       "      <td>273</td>\n",
       "      <td>BC104473.1</td>\n",
       "      <td>PERFECT_MATCH</td>\n",
       "      <td>(A, T, G, G, T, G, A, T, T, G, C, T, C, A, C, ...</td>\n",
       "    </tr>\n",
       "  </tbody>\n",
       "</table>\n",
       "</div>"
      ],
      "text/plain": [
       "  Bait_Symbol  Entrez_gene_ID  Num_Interactors ORF_ID ORF_size  \\\n",
       "0        A1BG               1                9  10134     1122   \n",
       "1        NAT2              10                5   7722      873   \n",
       "2         ADA             100                2   4768     1092   \n",
       "3        AKT3           10000               13  56787     1398   \n",
       "4       NR2E3           10002                2  11340      969   \n",
       "5      GUSBP9       100049076                0  56159      273   \n",
       "\n",
       "             template_acc          match  \\\n",
       "0              BC035719.1  PERFECT_MATCH   \n",
       "1              BC015878.1  PERFECT_MATCH   \n",
       "2  BC007678.2, BC040226.1  PERFECT_MATCH   \n",
       "3              BC121154.2  PERFECT_MATCH   \n",
       "4              BC041421.1  PERFECT_MATCH   \n",
       "5              BC104473.1  PERFECT_MATCH   \n",
       "\n",
       "                                                 SEQ  \n",
       "0  (A, T, G, G, C, G, C, C, A, G, T, G, T, C, C, ...  \n",
       "1  (A, T, G, G, A, C, A, T, T, G, A, A, G, C, A, ...  \n",
       "2  (A, T, G, G, C, C, C, A, G, A, C, G, C, C, C, ...  \n",
       "3  (A, T, G, A, G, C, G, A, T, G, T, T, A, C, C, ...  \n",
       "4  (A, T, G, T, G, C, C, C, C, G, T, G, G, A, C, ...  \n",
       "5  (A, T, G, G, T, G, A, T, T, G, C, T, C, A, C, ...  "
      ]
     },
     "execution_count": 192,
     "metadata": {},
     "output_type": "execute_result"
    }
   ],
   "source": [
    "BioPlex_baits_df[bait_Entrez_gene_IDs_one_ORF_filter].head(n = 6)"
   ]
  },
  {
   "cell_type": "markdown",
   "metadata": {},
   "source": [
    "## [3] Interactions"
   ]
  },
  {
   "cell_type": "markdown",
   "metadata": {},
   "source": [
    "_Column Descriptions_\n",
    "- **GeneA**: Entrez Gene ID for the first interacting protein\n",
    "- **GeneB**: Entrez Gene ID for the second interacting protein\n",
    "- **SymbolA**: Symbol for the first interacting protein\n",
    "- **SymbolB**: Symbol for the second interacting protein\n",
    "- **p(Wrong ID)**: Probability of wrong protein ID (CompPASS-Plus)\n",
    "- **p(NotInteractor)**: Probability of nonspecific background (CompPASS-Plus)\n",
    "- **p(Interactor)**: Probability of high-confidence interaction (CompPASS-Plus)"
   ]
  },
  {
   "cell_type": "code",
   "execution_count": 196,
   "metadata": {},
   "outputs": [],
   "source": [
    "# load BioPlex 3.0 interactions for HEK293T cell line, 118162 interactions\n",
    "BioPlex_interactions_df = pd.read_csv(f'{BioPlex_dir}/data/interactions/BioPlex_3.0_interactions_HEK293T_cells.tsv', sep = '\\t')"
   ]
  },
  {
   "cell_type": "code",
   "execution_count": 197,
   "metadata": {},
   "outputs": [
    {
     "data": {
      "text/html": [
       "<div>\n",
       "<style scoped>\n",
       "    .dataframe tbody tr th:only-of-type {\n",
       "        vertical-align: middle;\n",
       "    }\n",
       "\n",
       "    .dataframe tbody tr th {\n",
       "        vertical-align: top;\n",
       "    }\n",
       "\n",
       "    .dataframe thead th {\n",
       "        text-align: right;\n",
       "    }\n",
       "</style>\n",
       "<table border=\"1\" class=\"dataframe\">\n",
       "  <thead>\n",
       "    <tr style=\"text-align: right;\">\n",
       "      <th></th>\n",
       "      <th>GeneA</th>\n",
       "      <th>GeneB</th>\n",
       "      <th>UniprotA</th>\n",
       "      <th>UniprotB</th>\n",
       "      <th>SymbolA</th>\n",
       "      <th>SymbolB</th>\n",
       "      <th>pW</th>\n",
       "      <th>pNI</th>\n",
       "      <th>pInt</th>\n",
       "    </tr>\n",
       "  </thead>\n",
       "  <tbody>\n",
       "    <tr>\n",
       "      <th>0</th>\n",
       "      <td>100</td>\n",
       "      <td>728378</td>\n",
       "      <td>P00813</td>\n",
       "      <td>A5A3E0</td>\n",
       "      <td>ADA</td>\n",
       "      <td>POTEF</td>\n",
       "      <td>6.881844e-10</td>\n",
       "      <td>0.000118</td>\n",
       "      <td>0.999882</td>\n",
       "    </tr>\n",
       "    <tr>\n",
       "      <th>1</th>\n",
       "      <td>222389</td>\n",
       "      <td>6137</td>\n",
       "      <td>Q8N7W2-2</td>\n",
       "      <td>P26373</td>\n",
       "      <td>BEND7</td>\n",
       "      <td>RPL13</td>\n",
       "      <td>1.340380e-18</td>\n",
       "      <td>0.225664</td>\n",
       "      <td>0.774336</td>\n",
       "    </tr>\n",
       "    <tr>\n",
       "      <th>2</th>\n",
       "      <td>222389</td>\n",
       "      <td>5928</td>\n",
       "      <td>Q8N7W2-2</td>\n",
       "      <td>Q09028-3</td>\n",
       "      <td>BEND7</td>\n",
       "      <td>RBBP4</td>\n",
       "      <td>7.221401e-21</td>\n",
       "      <td>0.000064</td>\n",
       "      <td>0.999936</td>\n",
       "    </tr>\n",
       "    <tr>\n",
       "      <th>3</th>\n",
       "      <td>222389</td>\n",
       "      <td>25873</td>\n",
       "      <td>Q8N7W2-2</td>\n",
       "      <td>Q9Y3U8</td>\n",
       "      <td>BEND7</td>\n",
       "      <td>RPL36</td>\n",
       "      <td>7.058372e-17</td>\n",
       "      <td>0.128183</td>\n",
       "      <td>0.871817</td>\n",
       "    </tr>\n",
       "    <tr>\n",
       "      <th>4</th>\n",
       "      <td>222389</td>\n",
       "      <td>6124</td>\n",
       "      <td>Q8N7W2-2</td>\n",
       "      <td>P36578</td>\n",
       "      <td>BEND7</td>\n",
       "      <td>RPL4</td>\n",
       "      <td>1.632313e-22</td>\n",
       "      <td>0.200638</td>\n",
       "      <td>0.799362</td>\n",
       "    </tr>\n",
       "  </tbody>\n",
       "</table>\n",
       "</div>"
      ],
      "text/plain": [
       "    GeneA   GeneB  UniprotA  UniprotB SymbolA SymbolB            pW       pNI  \\\n",
       "0     100  728378    P00813    A5A3E0     ADA   POTEF  6.881844e-10  0.000118   \n",
       "1  222389    6137  Q8N7W2-2    P26373   BEND7   RPL13  1.340380e-18  0.225664   \n",
       "2  222389    5928  Q8N7W2-2  Q09028-3   BEND7   RBBP4  7.221401e-21  0.000064   \n",
       "3  222389   25873  Q8N7W2-2    Q9Y3U8   BEND7   RPL36  7.058372e-17  0.128183   \n",
       "4  222389    6124  Q8N7W2-2    P36578   BEND7    RPL4  1.632313e-22  0.200638   \n",
       "\n",
       "       pInt  \n",
       "0  0.999882  \n",
       "1  0.774336  \n",
       "2  0.999936  \n",
       "3  0.871817  \n",
       "4  0.799362  "
      ]
     },
     "execution_count": 197,
     "metadata": {},
     "output_type": "execute_result"
    }
   ],
   "source": [
    "BioPlex_interactions_df.head()"
   ]
  },
  {
   "cell_type": "code",
   "execution_count": 198,
   "metadata": {},
   "outputs": [
    {
     "data": {
      "text/html": [
       "<div>\n",
       "<style scoped>\n",
       "    .dataframe tbody tr th:only-of-type {\n",
       "        vertical-align: middle;\n",
       "    }\n",
       "\n",
       "    .dataframe tbody tr th {\n",
       "        vertical-align: top;\n",
       "    }\n",
       "\n",
       "    .dataframe thead th {\n",
       "        text-align: right;\n",
       "    }\n",
       "</style>\n",
       "<table border=\"1\" class=\"dataframe\">\n",
       "  <thead>\n",
       "    <tr style=\"text-align: right;\">\n",
       "      <th></th>\n",
       "      <th>GeneA</th>\n",
       "      <th>GeneB</th>\n",
       "      <th>UniprotA</th>\n",
       "      <th>UniprotB</th>\n",
       "      <th>SymbolA</th>\n",
       "      <th>SymbolB</th>\n",
       "      <th>pW</th>\n",
       "      <th>pNI</th>\n",
       "      <th>pInt</th>\n",
       "    </tr>\n",
       "  </thead>\n",
       "  <tbody>\n",
       "    <tr>\n",
       "      <th>118157</th>\n",
       "      <td>51805</td>\n",
       "      <td>2232</td>\n",
       "      <td>Q9NZJ6</td>\n",
       "      <td>P22570-2</td>\n",
       "      <td>COQ3</td>\n",
       "      <td>FDXR</td>\n",
       "      <td>0.008609</td>\n",
       "      <td>0.124730</td>\n",
       "      <td>0.866660</td>\n",
       "    </tr>\n",
       "    <tr>\n",
       "      <th>118158</th>\n",
       "      <td>51805</td>\n",
       "      <td>80271</td>\n",
       "      <td>Q9NZJ6</td>\n",
       "      <td>Q96DU7</td>\n",
       "      <td>COQ3</td>\n",
       "      <td>ITPKC</td>\n",
       "      <td>0.000423</td>\n",
       "      <td>0.002139</td>\n",
       "      <td>0.997439</td>\n",
       "    </tr>\n",
       "    <tr>\n",
       "      <th>118159</th>\n",
       "      <td>51805</td>\n",
       "      <td>55109</td>\n",
       "      <td>Q9NZJ6</td>\n",
       "      <td>Q8N302</td>\n",
       "      <td>COQ3</td>\n",
       "      <td>AGGF1</td>\n",
       "      <td>0.000001</td>\n",
       "      <td>0.003469</td>\n",
       "      <td>0.996530</td>\n",
       "    </tr>\n",
       "    <tr>\n",
       "      <th>118160</th>\n",
       "      <td>51805</td>\n",
       "      <td>197258</td>\n",
       "      <td>Q9NZJ6</td>\n",
       "      <td>Q8N0W3-2</td>\n",
       "      <td>COQ3</td>\n",
       "      <td>FUK</td>\n",
       "      <td>0.211267</td>\n",
       "      <td>0.006931</td>\n",
       "      <td>0.781802</td>\n",
       "    </tr>\n",
       "    <tr>\n",
       "      <th>118161</th>\n",
       "      <td>51805</td>\n",
       "      <td>4026</td>\n",
       "      <td>Q9NZJ6</td>\n",
       "      <td>Q93052</td>\n",
       "      <td>COQ3</td>\n",
       "      <td>LPP</td>\n",
       "      <td>0.021881</td>\n",
       "      <td>0.110518</td>\n",
       "      <td>0.867601</td>\n",
       "    </tr>\n",
       "  </tbody>\n",
       "</table>\n",
       "</div>"
      ],
      "text/plain": [
       "        GeneA   GeneB UniprotA  UniprotB SymbolA SymbolB        pW       pNI  \\\n",
       "118157  51805    2232   Q9NZJ6  P22570-2    COQ3    FDXR  0.008609  0.124730   \n",
       "118158  51805   80271   Q9NZJ6    Q96DU7    COQ3   ITPKC  0.000423  0.002139   \n",
       "118159  51805   55109   Q9NZJ6    Q8N302    COQ3   AGGF1  0.000001  0.003469   \n",
       "118160  51805  197258   Q9NZJ6  Q8N0W3-2    COQ3     FUK  0.211267  0.006931   \n",
       "118161  51805    4026   Q9NZJ6    Q93052    COQ3     LPP  0.021881  0.110518   \n",
       "\n",
       "            pInt  \n",
       "118157  0.866660  \n",
       "118158  0.997439  \n",
       "118159  0.996530  \n",
       "118160  0.781802  \n",
       "118161  0.867601  "
      ]
     },
     "execution_count": 198,
     "metadata": {},
     "output_type": "execute_result"
    }
   ],
   "source": [
    "BioPlex_interactions_df.tail()"
   ]
  },
  {
   "cell_type": "code",
   "execution_count": 199,
   "metadata": {},
   "outputs": [
    {
     "data": {
      "text/plain": [
       "(118162, 9)"
      ]
     },
     "execution_count": 199,
     "metadata": {},
     "output_type": "execute_result"
    }
   ],
   "source": [
    "BioPlex_interactions_df.shape"
   ]
  },
  {
   "cell_type": "markdown",
   "metadata": {},
   "source": [
    "## [4] Pairs of genes that are not *recipricol* in the network"
   ]
  },
  {
   "cell_type": "code",
   "execution_count": 200,
   "metadata": {},
   "outputs": [],
   "source": [
    "# find which pairs of genes are not \"recipricol\" (Gene1 > Gene2 but NOT Gene2 > Gene1) or (Gene2 > Gene1 but NOT Gene1 > Gene2)\n",
    "unique_GeneA_ids = list(set(BioPlex_interactions_df.GeneA))\n",
    "unique_GeneB_ids = list(set(BioPlex_interactions_df.GeneB))\n",
    "all_unique_Gene_ids = set(unique_GeneA_ids + unique_GeneB_ids) # all genes detected in network"
   ]
  },
  {
   "cell_type": "code",
   "execution_count": 201,
   "metadata": {},
   "outputs": [
    {
     "data": {
      "text/plain": [
       "8995"
      ]
     },
     "execution_count": 201,
     "metadata": {},
     "output_type": "execute_result"
    }
   ],
   "source": [
    "len(unique_GeneA_ids)"
   ]
  },
  {
   "cell_type": "code",
   "execution_count": 202,
   "metadata": {},
   "outputs": [
    {
     "data": {
      "text/plain": [
       "10419"
      ]
     },
     "execution_count": 202,
     "metadata": {},
     "output_type": "execute_result"
    }
   ],
   "source": [
    "len(unique_GeneB_ids)"
   ]
  },
  {
   "cell_type": "code",
   "execution_count": 203,
   "metadata": {},
   "outputs": [
    {
     "data": {
      "text/plain": [
       "13957"
      ]
     },
     "execution_count": 203,
     "metadata": {},
     "output_type": "execute_result"
    }
   ],
   "source": [
    "len(all_unique_Gene_ids) # 14,586 proteins reported in Hutten et al Cell 2021"
   ]
  },
  {
   "cell_type": "markdown",
   "metadata": {},
   "source": [
    "How many of **GeneA** were also **baits**?"
   ]
  },
  {
   "cell_type": "code",
   "execution_count": 204,
   "metadata": {},
   "outputs": [
    {
     "data": {
      "text/plain": [
       "8995"
      ]
     },
     "execution_count": 204,
     "metadata": {},
     "output_type": "execute_result"
    }
   ],
   "source": [
    "np.sum([(gene_i in bait_Entrez_Gene_ids) for gene_i in unique_GeneA_ids])"
   ]
  },
  {
   "cell_type": "markdown",
   "metadata": {},
   "source": [
    "How many of **GeneB** were also **baits**?"
   ]
  },
  {
   "cell_type": "code",
   "execution_count": 205,
   "metadata": {},
   "outputs": [
    {
     "data": {
      "text/plain": [
       "5961"
      ]
     },
     "execution_count": 205,
     "metadata": {},
     "output_type": "execute_result"
    }
   ],
   "source": [
    "np.sum([(gene_i in bait_Entrez_Gene_ids) for gene_i in unique_GeneB_ids])"
   ]
  },
  {
   "cell_type": "markdown",
   "metadata": {},
   "source": [
    "**GeneA** is always a **bait**, **GeneB** is always a **prey**"
   ]
  },
  {
   "cell_type": "markdown",
   "metadata": {},
   "source": [
    "If genes are recipricol then **(GeneA-GeneB + GeneB-GeneA) = 2** else **(GeneA-GeneB + GeneB-GeneA) = 1**"
   ]
  },
  {
   "cell_type": "code",
   "execution_count": 206,
   "metadata": {},
   "outputs": [],
   "source": [
    "GeneA_GeneB_list = [(str(BioPlex_interactions_df.loc[interaction_i,'GeneA']) + '_' + str(BioPlex_interactions_df.loc[interaction_i,'GeneB'])) for interaction_i in BioPlex_interactions_df.index] # GeneA - GeneB\n",
    "GeneB_GeneA_list = [(str(BioPlex_interactions_df.loc[interaction_i,'GeneB']) + '_' + str(BioPlex_interactions_df.loc[interaction_i,'GeneA'])) for interaction_i in BioPlex_interactions_df.index] # GeneB - GeneA\n",
    "gene_pair_recip_count = pd.Series(Counter(GeneA_GeneB_list + GeneB_GeneA_list))"
   ]
  },
  {
   "cell_type": "code",
   "execution_count": 207,
   "metadata": {},
   "outputs": [
    {
     "data": {
      "text/plain": [
       "100_728378       1\n",
       "79968_5634       1\n",
       "1762_5634        1\n",
       "5635_5634        1\n",
       "5636_5634        1\n",
       "                ..\n",
       "343069_221092    1\n",
       "343069_4686      1\n",
       "343069_51340     1\n",
       "343069_10605     1\n",
       "4026_51805       1\n",
       "Length: 236324, dtype: int64"
      ]
     },
     "execution_count": 207,
     "metadata": {},
     "output_type": "execute_result"
    }
   ],
   "source": [
    "gene_pair_recip_count.sort_values(ascending = True)"
   ]
  },
  {
   "cell_type": "code",
   "execution_count": 208,
   "metadata": {},
   "outputs": [
    {
     "data": {
      "text/plain": [
       "['100_728378', '222389_6137', '222389_5928', '222389_25873', '222389_6124']"
      ]
     },
     "execution_count": 208,
     "metadata": {},
     "output_type": "execute_result"
    }
   ],
   "source": [
    "GeneA_GeneB_list[0:5]"
   ]
  },
  {
   "cell_type": "code",
   "execution_count": 209,
   "metadata": {},
   "outputs": [
    {
     "data": {
      "text/plain": [
       "['728378_100', '6137_222389', '5928_222389', '25873_222389', '6124_222389']"
      ]
     },
     "execution_count": 209,
     "metadata": {},
     "output_type": "execute_result"
    }
   ],
   "source": [
    "GeneB_GeneA_list[0:5]"
   ]
  },
  {
   "cell_type": "markdown",
   "metadata": {},
   "source": [
    "Non-redundant list of **bait-prey** pairs! Why? Any **baits** that were found to associate reciprocally had their scores combined\n",
    "\n",
    "From *Huttlin et al 2015 Cell* : \"After filtering, a non-redundant list of bait-prey pairs was assembled...In cases where two baits reciprocally associated with each other, their CompPASS-Plus scores were combined...\""
   ]
  },
  {
   "cell_type": "code",
   "execution_count": null,
   "metadata": {},
   "outputs": [],
   "source": []
  }
 ],
 "metadata": {
  "kernelspec": {
   "display_name": "Python [conda env:CCB_BioPlex]",
   "language": "python",
   "name": "conda-env-CCB_BioPlex-py"
  },
  "language_info": {
   "codemirror_mode": {
    "name": "ipython",
    "version": 3
   },
   "file_extension": ".py",
   "mimetype": "text/x-python",
   "name": "python",
   "nbconvert_exporter": "python",
   "pygments_lexer": "ipython3",
   "version": "3.7.11"
  }
 },
 "nbformat": 4,
 "nbformat_minor": 2
}
